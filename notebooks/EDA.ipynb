{
 "cells": [
  {
   "cell_type": "code",
   "execution_count": 75,
   "metadata": {},
   "outputs": [],
   "source": [
    "import pandas as pd\n",
    "import numpy as np"
   ]
  },
  {
   "cell_type": "code",
   "execution_count": 76,
   "metadata": {},
   "outputs": [],
   "source": [
    "# Read dataset\n",
    "data=pd.read_csv('data/thyroid_data.csv')"
   ]
  },
  {
   "cell_type": "code",
   "execution_count": 77,
   "metadata": {},
   "outputs": [
    {
     "data": {
      "text/html": [
       "<div>\n",
       "<style scoped>\n",
       "    .dataframe tbody tr th:only-of-type {\n",
       "        vertical-align: middle;\n",
       "    }\n",
       "\n",
       "    .dataframe tbody tr th {\n",
       "        vertical-align: top;\n",
       "    }\n",
       "\n",
       "    .dataframe thead th {\n",
       "        text-align: right;\n",
       "    }\n",
       "</style>\n",
       "<table border=\"1\" class=\"dataframe\">\n",
       "  <thead>\n",
       "    <tr style=\"text-align: right;\">\n",
       "      <th></th>\n",
       "      <th>S.no</th>\n",
       "      <th>Age</th>\n",
       "      <th>Sex</th>\n",
       "      <th>On Thyroxine</th>\n",
       "      <th>Query on Thyroxine</th>\n",
       "      <th>On Antithyroid Medication</th>\n",
       "      <th>Sick</th>\n",
       "      <th>Pregnant</th>\n",
       "      <th>Thyroid Surgery</th>\n",
       "      <th>I131 Treatment</th>\n",
       "      <th>...</th>\n",
       "      <th>TSH</th>\n",
       "      <th>T3 Measured</th>\n",
       "      <th>T3</th>\n",
       "      <th>TT4 Measured</th>\n",
       "      <th>TT4</th>\n",
       "      <th>T4U Measured</th>\n",
       "      <th>T4U</th>\n",
       "      <th>FTI Measured</th>\n",
       "      <th>FTI</th>\n",
       "      <th>Category</th>\n",
       "    </tr>\n",
       "  </thead>\n",
       "  <tbody>\n",
       "    <tr>\n",
       "      <th>0</th>\n",
       "      <td>0</td>\n",
       "      <td>41</td>\n",
       "      <td>F</td>\n",
       "      <td>f</td>\n",
       "      <td>f</td>\n",
       "      <td>f</td>\n",
       "      <td>f</td>\n",
       "      <td>f</td>\n",
       "      <td>f</td>\n",
       "      <td>f</td>\n",
       "      <td>...</td>\n",
       "      <td>1.3</td>\n",
       "      <td>t</td>\n",
       "      <td>2.5</td>\n",
       "      <td>t</td>\n",
       "      <td>125</td>\n",
       "      <td>t</td>\n",
       "      <td>1.14</td>\n",
       "      <td>t</td>\n",
       "      <td>109</td>\n",
       "      <td>negative</td>\n",
       "    </tr>\n",
       "    <tr>\n",
       "      <th>1</th>\n",
       "      <td>1</td>\n",
       "      <td>23</td>\n",
       "      <td>F</td>\n",
       "      <td>f</td>\n",
       "      <td>f</td>\n",
       "      <td>f</td>\n",
       "      <td>f</td>\n",
       "      <td>f</td>\n",
       "      <td>f</td>\n",
       "      <td>f</td>\n",
       "      <td>...</td>\n",
       "      <td>4.1</td>\n",
       "      <td>t</td>\n",
       "      <td>2</td>\n",
       "      <td>t</td>\n",
       "      <td>102</td>\n",
       "      <td>f</td>\n",
       "      <td>?</td>\n",
       "      <td>f</td>\n",
       "      <td>?</td>\n",
       "      <td>negative</td>\n",
       "    </tr>\n",
       "    <tr>\n",
       "      <th>2</th>\n",
       "      <td>2</td>\n",
       "      <td>46</td>\n",
       "      <td>M</td>\n",
       "      <td>f</td>\n",
       "      <td>f</td>\n",
       "      <td>f</td>\n",
       "      <td>f</td>\n",
       "      <td>f</td>\n",
       "      <td>f</td>\n",
       "      <td>f</td>\n",
       "      <td>...</td>\n",
       "      <td>0.98</td>\n",
       "      <td>f</td>\n",
       "      <td>?</td>\n",
       "      <td>t</td>\n",
       "      <td>109</td>\n",
       "      <td>t</td>\n",
       "      <td>0.91</td>\n",
       "      <td>t</td>\n",
       "      <td>120</td>\n",
       "      <td>negative</td>\n",
       "    </tr>\n",
       "    <tr>\n",
       "      <th>3</th>\n",
       "      <td>3</td>\n",
       "      <td>70</td>\n",
       "      <td>F</td>\n",
       "      <td>t</td>\n",
       "      <td>f</td>\n",
       "      <td>f</td>\n",
       "      <td>f</td>\n",
       "      <td>f</td>\n",
       "      <td>f</td>\n",
       "      <td>f</td>\n",
       "      <td>...</td>\n",
       "      <td>0.16</td>\n",
       "      <td>t</td>\n",
       "      <td>1.9</td>\n",
       "      <td>t</td>\n",
       "      <td>175</td>\n",
       "      <td>f</td>\n",
       "      <td>?</td>\n",
       "      <td>f</td>\n",
       "      <td>?</td>\n",
       "      <td>negative</td>\n",
       "    </tr>\n",
       "    <tr>\n",
       "      <th>4</th>\n",
       "      <td>4</td>\n",
       "      <td>70</td>\n",
       "      <td>F</td>\n",
       "      <td>f</td>\n",
       "      <td>f</td>\n",
       "      <td>f</td>\n",
       "      <td>f</td>\n",
       "      <td>f</td>\n",
       "      <td>f</td>\n",
       "      <td>f</td>\n",
       "      <td>...</td>\n",
       "      <td>0.72</td>\n",
       "      <td>t</td>\n",
       "      <td>1.2</td>\n",
       "      <td>t</td>\n",
       "      <td>61</td>\n",
       "      <td>t</td>\n",
       "      <td>0.87</td>\n",
       "      <td>t</td>\n",
       "      <td>70</td>\n",
       "      <td>negative</td>\n",
       "    </tr>\n",
       "    <tr>\n",
       "      <th>5</th>\n",
       "      <td>5</td>\n",
       "      <td>18</td>\n",
       "      <td>F</td>\n",
       "      <td>t</td>\n",
       "      <td>f</td>\n",
       "      <td>f</td>\n",
       "      <td>f</td>\n",
       "      <td>f</td>\n",
       "      <td>f</td>\n",
       "      <td>f</td>\n",
       "      <td>...</td>\n",
       "      <td>0.03</td>\n",
       "      <td>f</td>\n",
       "      <td>?</td>\n",
       "      <td>t</td>\n",
       "      <td>183</td>\n",
       "      <td>t</td>\n",
       "      <td>1.3</td>\n",
       "      <td>t</td>\n",
       "      <td>141</td>\n",
       "      <td>negative</td>\n",
       "    </tr>\n",
       "    <tr>\n",
       "      <th>6</th>\n",
       "      <td>6</td>\n",
       "      <td>59</td>\n",
       "      <td>F</td>\n",
       "      <td>f</td>\n",
       "      <td>f</td>\n",
       "      <td>f</td>\n",
       "      <td>f</td>\n",
       "      <td>f</td>\n",
       "      <td>f</td>\n",
       "      <td>f</td>\n",
       "      <td>...</td>\n",
       "      <td>?</td>\n",
       "      <td>f</td>\n",
       "      <td>?</td>\n",
       "      <td>t</td>\n",
       "      <td>72</td>\n",
       "      <td>t</td>\n",
       "      <td>0.92</td>\n",
       "      <td>t</td>\n",
       "      <td>78</td>\n",
       "      <td>negative</td>\n",
       "    </tr>\n",
       "    <tr>\n",
       "      <th>7</th>\n",
       "      <td>7</td>\n",
       "      <td>80</td>\n",
       "      <td>F</td>\n",
       "      <td>f</td>\n",
       "      <td>f</td>\n",
       "      <td>f</td>\n",
       "      <td>f</td>\n",
       "      <td>f</td>\n",
       "      <td>f</td>\n",
       "      <td>f</td>\n",
       "      <td>...</td>\n",
       "      <td>2.2</td>\n",
       "      <td>t</td>\n",
       "      <td>0.6</td>\n",
       "      <td>t</td>\n",
       "      <td>80</td>\n",
       "      <td>t</td>\n",
       "      <td>0.7</td>\n",
       "      <td>t</td>\n",
       "      <td>115</td>\n",
       "      <td>negative</td>\n",
       "    </tr>\n",
       "    <tr>\n",
       "      <th>8</th>\n",
       "      <td>8</td>\n",
       "      <td>66</td>\n",
       "      <td>F</td>\n",
       "      <td>f</td>\n",
       "      <td>f</td>\n",
       "      <td>f</td>\n",
       "      <td>f</td>\n",
       "      <td>f</td>\n",
       "      <td>f</td>\n",
       "      <td>f</td>\n",
       "      <td>...</td>\n",
       "      <td>0.6</td>\n",
       "      <td>t</td>\n",
       "      <td>2.2</td>\n",
       "      <td>t</td>\n",
       "      <td>123</td>\n",
       "      <td>t</td>\n",
       "      <td>0.93</td>\n",
       "      <td>t</td>\n",
       "      <td>132</td>\n",
       "      <td>negative</td>\n",
       "    </tr>\n",
       "    <tr>\n",
       "      <th>9</th>\n",
       "      <td>9</td>\n",
       "      <td>68</td>\n",
       "      <td>M</td>\n",
       "      <td>f</td>\n",
       "      <td>f</td>\n",
       "      <td>f</td>\n",
       "      <td>f</td>\n",
       "      <td>f</td>\n",
       "      <td>f</td>\n",
       "      <td>f</td>\n",
       "      <td>...</td>\n",
       "      <td>2.4</td>\n",
       "      <td>t</td>\n",
       "      <td>1.6</td>\n",
       "      <td>t</td>\n",
       "      <td>83</td>\n",
       "      <td>t</td>\n",
       "      <td>0.89</td>\n",
       "      <td>t</td>\n",
       "      <td>93</td>\n",
       "      <td>negative</td>\n",
       "    </tr>\n",
       "  </tbody>\n",
       "</table>\n",
       "<p>10 rows × 28 columns</p>\n",
       "</div>"
      ],
      "text/plain": [
       "   S.no Age Sex On Thyroxine Query on Thyroxine On Antithyroid Medication  \\\n",
       "0     0  41   F            f                  f                         f   \n",
       "1     1  23   F            f                  f                         f   \n",
       "2     2  46   M            f                  f                         f   \n",
       "3     3  70   F            t                  f                         f   \n",
       "4     4  70   F            f                  f                         f   \n",
       "5     5  18   F            t                  f                         f   \n",
       "6     6  59   F            f                  f                         f   \n",
       "7     7  80   F            f                  f                         f   \n",
       "8     8  66   F            f                  f                         f   \n",
       "9     9  68   M            f                  f                         f   \n",
       "\n",
       "  Sick Pregnant Thyroid Surgery I131 Treatment  ...   TSH T3 Measured   T3  \\\n",
       "0    f        f               f              f  ...   1.3           t  2.5   \n",
       "1    f        f               f              f  ...   4.1           t    2   \n",
       "2    f        f               f              f  ...  0.98           f    ?   \n",
       "3    f        f               f              f  ...  0.16           t  1.9   \n",
       "4    f        f               f              f  ...  0.72           t  1.2   \n",
       "5    f        f               f              f  ...  0.03           f    ?   \n",
       "6    f        f               f              f  ...     ?           f    ?   \n",
       "7    f        f               f              f  ...   2.2           t  0.6   \n",
       "8    f        f               f              f  ...   0.6           t  2.2   \n",
       "9    f        f               f              f  ...   2.4           t  1.6   \n",
       "\n",
       "  TT4 Measured  TT4 T4U Measured   T4U FTI Measured  FTI  Category  \n",
       "0            t  125            t  1.14            t  109  negative  \n",
       "1            t  102            f     ?            f    ?  negative  \n",
       "2            t  109            t  0.91            t  120  negative  \n",
       "3            t  175            f     ?            f    ?  negative  \n",
       "4            t   61            t  0.87            t   70  negative  \n",
       "5            t  183            t   1.3            t  141  negative  \n",
       "6            t   72            t  0.92            t   78  negative  \n",
       "7            t   80            t   0.7            t  115  negative  \n",
       "8            t  123            t  0.93            t  132  negative  \n",
       "9            t   83            t  0.89            t   93  negative  \n",
       "\n",
       "[10 rows x 28 columns]"
      ]
     },
     "execution_count": 77,
     "metadata": {},
     "output_type": "execute_result"
    }
   ],
   "source": [
    "data.head(10)"
   ]
  },
  {
   "cell_type": "code",
   "execution_count": 78,
   "metadata": {},
   "outputs": [
    {
     "data": {
      "text/plain": [
       "Index(['S.no', 'Age', 'Sex', 'On Thyroxine', 'Query on Thyroxine',\n",
       "       'On Antithyroid Medication', 'Sick', 'Pregnant', 'Thyroid Surgery',\n",
       "       'I131 Treatment', 'Query Hypothyroid', 'Query Hyperthyroid', 'Lithium',\n",
       "       'Goitre', 'Tumor', 'Hypopituitary', 'Psych', 'TSH Measured', 'TSH',\n",
       "       'T3 Measured', 'T3', 'TT4 Measured', 'TT4', 'T4U Measured', 'T4U',\n",
       "       'FTI Measured', 'FTI', 'Category'],\n",
       "      dtype='object')"
      ]
     },
     "execution_count": 78,
     "metadata": {},
     "output_type": "execute_result"
    }
   ],
   "source": [
    "data.columns\n"
   ]
  },
  {
   "cell_type": "code",
   "execution_count": 79,
   "metadata": {},
   "outputs": [
    {
     "data": {
      "text/plain": [
       "S.no                         0\n",
       "Age                          0\n",
       "Sex                          0\n",
       "On Thyroxine                 0\n",
       "Query on Thyroxine           0\n",
       "On Antithyroid Medication    0\n",
       "Sick                         0\n",
       "Pregnant                     0\n",
       "Thyroid Surgery              0\n",
       "I131 Treatment               0\n",
       "Query Hypothyroid            0\n",
       "Query Hyperthyroid           0\n",
       "Lithium                      0\n",
       "Goitre                       0\n",
       "Tumor                        0\n",
       "Hypopituitary                0\n",
       "Psych                        0\n",
       "TSH Measured                 0\n",
       "TSH                          0\n",
       "T3 Measured                  0\n",
       "T3                           0\n",
       "TT4 Measured                 0\n",
       "TT4                          0\n",
       "T4U Measured                 0\n",
       "T4U                          0\n",
       "FTI Measured                 0\n",
       "FTI                          0\n",
       "Category                     0\n",
       "dtype: int64"
      ]
     },
     "execution_count": 79,
     "metadata": {},
     "output_type": "execute_result"
    }
   ],
   "source": [
    "# To check for the null values\n",
    "data.isnull().sum()"
   ]
  },
  {
   "cell_type": "code",
   "execution_count": 80,
   "metadata": {},
   "outputs": [],
   "source": [
    "#Remove unwanted columns\n",
    "data=data.drop([ 'S.no','On Thyroxine', 'Query on Thyroxine',\n",
    "       'On Antithyroid Medication',\n",
    "       'I131 Treatment', 'Query Hypothyroid', 'Query Hyperthyroid', 'Lithium',\n",
    "        'TSH Measured','Hypopituitary','Psych',\n",
    "       'T3 Measured',  'TT4 Measured', 'T4U Measured', \n",
    "       'FTI Measured'],axis=1)"
   ]
  },
  {
   "cell_type": "code",
   "execution_count": 81,
   "metadata": {},
   "outputs": [
    {
     "data": {
      "text/plain": [
       "Index(['Age', 'Sex', 'Sick', 'Pregnant', 'Thyroid Surgery', 'Goitre', 'Tumor',\n",
       "       'TSH', 'T3', 'TT4', 'T4U', 'FTI', 'Category'],\n",
       "      dtype='object')"
      ]
     },
     "execution_count": 81,
     "metadata": {},
     "output_type": "execute_result"
    }
   ],
   "source": [
    "data.columns"
   ]
  },
  {
   "cell_type": "code",
   "execution_count": 82,
   "metadata": {},
   "outputs": [
    {
     "data": {
      "text/plain": [
       "array(['F', 'M', '?'], dtype=object)"
      ]
     },
     "execution_count": 82,
     "metadata": {},
     "output_type": "execute_result"
    }
   ],
   "source": [
    "data['Sex'].unique()"
   ]
  },
  {
   "cell_type": "code",
   "execution_count": null,
   "metadata": {},
   "outputs": [],
   "source": []
  },
  {
   "cell_type": "code",
   "execution_count": 83,
   "metadata": {},
   "outputs": [
    {
     "data": {
      "text/html": [
       "<div>\n",
       "<style scoped>\n",
       "    .dataframe tbody tr th:only-of-type {\n",
       "        vertical-align: middle;\n",
       "    }\n",
       "\n",
       "    .dataframe tbody tr th {\n",
       "        vertical-align: top;\n",
       "    }\n",
       "\n",
       "    .dataframe thead th {\n",
       "        text-align: right;\n",
       "    }\n",
       "</style>\n",
       "<table border=\"1\" class=\"dataframe\">\n",
       "  <thead>\n",
       "    <tr style=\"text-align: right;\">\n",
       "      <th></th>\n",
       "      <th>Age</th>\n",
       "      <th>Sex</th>\n",
       "      <th>Sick</th>\n",
       "      <th>Pregnant</th>\n",
       "      <th>Thyroid Surgery</th>\n",
       "      <th>Goitre</th>\n",
       "      <th>Tumor</th>\n",
       "      <th>TSH</th>\n",
       "      <th>T3</th>\n",
       "      <th>TT4</th>\n",
       "      <th>T4U</th>\n",
       "      <th>FTI</th>\n",
       "      <th>Category</th>\n",
       "    </tr>\n",
       "  </thead>\n",
       "  <tbody>\n",
       "    <tr>\n",
       "      <th>count</th>\n",
       "      <td>3221</td>\n",
       "      <td>3221</td>\n",
       "      <td>3221</td>\n",
       "      <td>3221</td>\n",
       "      <td>3221</td>\n",
       "      <td>3221</td>\n",
       "      <td>3221</td>\n",
       "      <td>3221</td>\n",
       "      <td>3221</td>\n",
       "      <td>3221</td>\n",
       "      <td>3221</td>\n",
       "      <td>3221</td>\n",
       "      <td>3221</td>\n",
       "    </tr>\n",
       "    <tr>\n",
       "      <th>unique</th>\n",
       "      <td>94</td>\n",
       "      <td>3</td>\n",
       "      <td>2</td>\n",
       "      <td>2</td>\n",
       "      <td>2</td>\n",
       "      <td>2</td>\n",
       "      <td>2</td>\n",
       "      <td>264</td>\n",
       "      <td>65</td>\n",
       "      <td>218</td>\n",
       "      <td>139</td>\n",
       "      <td>210</td>\n",
       "      <td>4</td>\n",
       "    </tr>\n",
       "    <tr>\n",
       "      <th>top</th>\n",
       "      <td>59</td>\n",
       "      <td>F</td>\n",
       "      <td>f</td>\n",
       "      <td>f</td>\n",
       "      <td>f</td>\n",
       "      <td>f</td>\n",
       "      <td>f</td>\n",
       "      <td>?</td>\n",
       "      <td>?</td>\n",
       "      <td>?</td>\n",
       "      <td>?</td>\n",
       "      <td>?</td>\n",
       "      <td>negative</td>\n",
       "    </tr>\n",
       "    <tr>\n",
       "      <th>freq</th>\n",
       "      <td>91</td>\n",
       "      <td>2108</td>\n",
       "      <td>3080</td>\n",
       "      <td>3175</td>\n",
       "      <td>3180</td>\n",
       "      <td>3194</td>\n",
       "      <td>3130</td>\n",
       "      <td>247</td>\n",
       "      <td>589</td>\n",
       "      <td>142</td>\n",
       "      <td>276</td>\n",
       "      <td>274</td>\n",
       "      <td>2753</td>\n",
       "    </tr>\n",
       "  </tbody>\n",
       "</table>\n",
       "</div>"
      ],
      "text/plain": [
       "         Age   Sex  Sick Pregnant Thyroid Surgery Goitre Tumor   TSH    T3  \\\n",
       "count   3221  3221  3221     3221            3221   3221  3221  3221  3221   \n",
       "unique    94     3     2        2               2      2     2   264    65   \n",
       "top       59     F     f        f               f      f     f     ?     ?   \n",
       "freq      91  2108  3080     3175            3180   3194  3130   247   589   \n",
       "\n",
       "         TT4   T4U   FTI  Category  \n",
       "count   3221  3221  3221      3221  \n",
       "unique   218   139   210         4  \n",
       "top        ?     ?     ?  negative  \n",
       "freq     142   276   274      2753  "
      ]
     },
     "execution_count": 83,
     "metadata": {},
     "output_type": "execute_result"
    }
   ],
   "source": [
    "data.describe()"
   ]
  },
  {
   "cell_type": "code",
   "execution_count": 84,
   "metadata": {},
   "outputs": [
    {
     "data": {
      "text/plain": [
       "(3221, 13)"
      ]
     },
     "execution_count": 84,
     "metadata": {},
     "output_type": "execute_result"
    }
   ],
   "source": [
    "data.shape"
   ]
  },
  {
   "cell_type": "code",
   "execution_count": 85,
   "metadata": {},
   "outputs": [],
   "source": [
    "# replace ? with numpy nan\n",
    "for column in data.columns:\n",
    "    count=data[column][data[column]== '?'].count()\n",
    "    if count!=0:\n",
    "        data[column]=data[column].replace('?',np.nan)"
   ]
  },
  {
   "cell_type": "code",
   "execution_count": 86,
   "metadata": {},
   "outputs": [
    {
     "name": "stdout",
     "output_type": "stream",
     "text": [
      "Age 0\n",
      "Sex 0\n",
      "Sick 0\n",
      "Pregnant 0\n",
      "Thyroid Surgery 0\n",
      "Goitre 0\n",
      "Tumor 0\n",
      "TSH 0\n",
      "T3 0\n",
      "TT4 0\n",
      "T4U 0\n",
      "FTI 0\n",
      "Category 0\n"
     ]
    }
   ],
   "source": [
    "for column in data.columns:\n",
    "    count=data[column][data[column]=='?'].count()\n",
    "    if count == 0:\n",
    "        print(column,data[column][data[column]=='?'].count())"
   ]
  },
  {
   "cell_type": "code",
   "execution_count": 87,
   "metadata": {},
   "outputs": [
    {
     "name": "stdout",
     "output_type": "stream",
     "text": [
      "Age ['41' '23' '46' '70' '18' '59' '80' '66' '68' '84' '67' '71' '28' '65'\n",
      " '42' '63' '51' '81' '54' '55' '60' '25' '73' '34' '78' '37' '85' '26'\n",
      " '58' '64' '44' '48' '61' '35' '83' '21' '87' '53' '77' '27' '69' '74'\n",
      " '38' '76' '45' '36' '22' '43' '72' '82' '31' '39' '49' '62' '57' '1' '50'\n",
      " '30' '29' '75' '19' '7' '79' '17' '24' '15' '32' '47' '16' '52' '33' '13'\n",
      " '10' '89' '56' '20' '90' '40' '88' '14' '86' '94' '12' '4' '11' '8' '5'\n",
      " '455' '2' '91' '6' nan '93' '92']\n",
      "Sex ['F' 'M' nan]\n",
      "Sick ['f' 't']\n",
      "Pregnant ['f' 't']\n",
      "Thyroid Surgery ['f' 't']\n",
      "Goitre ['f' 't']\n",
      "Tumor ['f' 't']\n",
      "TSH ['1.3' '4.1' '0.98' '0.16' '0.72' '0.03' nan '2.2' '0.6' '2.4' '1.1' '2.8'\n",
      " '3.3' '12' '1.2' '1.5' '6' '2.1' '0.1' '0.8' '1.9' '3.1' '0.2' '13' '0.3'\n",
      " '0.035' '2.5' '0.5' '1.7' '7.3' '1.8' '0.26' '45' '5.4' '0.99' '0.25'\n",
      " '0.92' '0.15' '0.64' '1' '0.4' '2' '2.6' '14.8' '15' '19' '0.02' '3'\n",
      " '2.9' '3.2' '9' '1.6' '4.3' '0.005' '0.31' '0.61' '0.05' '7.8' '160'\n",
      " '0.025' '1.4' '0.01' '8.8' '151' '0.04' '3.9' '9.4' '2.7' '2.3' '0.94'\n",
      " '0.045' '3.5' '0.88' '0.08' '4.5' '0.68' '0.7' '0.67' '27' '6.1' '0.75'\n",
      " '0.55' '26' '5.2' '0.77' '0.07' '0.9' '11.4' '143' '0.45' '0.57' '0.65'\n",
      " '0.015' '16' '108' '0.83' '9.2' '86' '0.62' '0.59' '9.1' '5.9' '52'\n",
      " '0.33' '31' '5.8' '0.28' '51' '6.3' '4.4' '9.6' '3.4' '0.09' '24' '0.76'\n",
      " '42' '25' '10' '4.6' '8.6' '0.66' '6.2' '0.79' '28' '0.86' '9.7' '0.84'\n",
      " '17' '18' '55' '14' '3.7' '0.87' '6.7' '0.74' '7.6' '0.065' '0.29' '0.37'\n",
      " '8' '11' '0.48' '44' '7.9' '5' '7.2' '0.89' '0.93' '0.97' '0.12' '6.4'\n",
      " '33' '0.85' '7.1' '0.73' '199' '8.2' '188' '0.22' '98' '22' '6.6' '5.1'\n",
      " '0.06' '0.42' '3.8' '35' '4' '0.78' '0.63' '0.52' '60' '0.43' '5.6' '6.9'\n",
      " '3.6' '29' '0.38' '4.9' '0.41' '9.9' '7.5' '34' '6.5' '4.7' '103' '0.95'\n",
      " '0.14' '0.35' '4.2' '0.81' '0.54' '0.58' '8.9' '5.5' '0.34' '9.3' '0.13'\n",
      " '54' '0.39' '8.3' '478' '21' '6.8' '0.32' '0.23' '0.24' '8.1' '0.91'\n",
      " '5.3' '100' '0.27' '1.01' '58' '41' '183' '18.4' '0.47' '0.17' '12.1'\n",
      " '0.19' '0.82' '43' '0.44' '70' '7.7' '8.4' '0.69' '8.5' '0.21' '82'\n",
      " '0.055' '0.96' '0.71' '38' '0.36' '9.8' '7' '0.46' '11.1' '39' '76' '5.7'\n",
      " '32' '126' '26.4' '0.53' '0.49' '36' '178' '145' '47' '4.8' '10.3' '89'\n",
      " '7.4' '472' '0.51' '116' '61' '99' '46' '78' '468']\n",
      "T3 ['2.5' '2' nan '1.9' '1.2' '0.6' '2.2' '1.6' '3.8' '1.7' '1.8' '2.6' '2.1'\n",
      " '0.3' '5.5' '1.4' '3.1' '1.5' '2.3' '2.4' '2.7' '0.9' '1' '2.8' '2.9'\n",
      " '0.8' '1.3' '0.4' '3.3' '3.5' '3.4' '1.1' '4.2' '3.7' '3' '0.7' '4.8'\n",
      " '4.3' '0.05' '3.2' '5.4' '4' '0.5' '0.2' '3.6' '5.2' '5' '6' '5.3' '3.9'\n",
      " '4.6' '4.5' '7.3' '4.7' '6.7' '4.1' '6.1' '0.1' '4.9' '10.6' '5.1' '7'\n",
      " '6.2' '4.4' '7.1']\n",
      "TT4 ['125' '102' '109' '175' '61' '183' '72' '80' '123' '83' '115' '152' '171'\n",
      " '97' '99' '70' '117' '121' '130' '108' '104' '134' '199' '57' '129' '113'\n",
      " '119' '84' '81' '95' '66' '101' '147' '120' '69' nan '39' '87' '63' '133'\n",
      " '86' '163' '162' '103' '96' '151' '112' '82' '138' '71' '77' '93' '107'\n",
      " '237' '110' '67' '88' '160' '118' '136' '114' '116' '94' '161' '11' '32'\n",
      " '124' '137' '92' '135' '105' '150' '126' '146' '91' '217' '141' '159'\n",
      " '122' '100' '111' '140' '205' '225' '85' '90' '74' '219' '127' '132'\n",
      " '128' '106' '144' '131' '56' '79' '142' '98' '177' '139' '78' '189' '180'\n",
      " '73' '145' '184' '38' '156' '75' '148' '14' '76' '54' '58' '27' '65'\n",
      " '193' '13' '143' '12' '64' '257' '164' '59' '167' '18' '41' '176' '37'\n",
      " '33' '44' '45' '154' '174' '203' '244' '62' '158' '60' '187' '250' '181'\n",
      " '157' '223' '272' '166' '213' '235' '10' '68' '231' '191' '48' '5.8'\n",
      " '169' '149' '210' '40' '155' '232' '42' '204' '430' '198' '230' '15'\n",
      " '170' '165' '47' '168' '194' '89' '52' '179' '192' '172' '4.8' '50' '182'\n",
      " '197' '214' '246' '196' '207' '19' '153' '22' '46' '200' '35' '226' '201'\n",
      " '233' '206' '31' '255' '178' '239' '195' '6' '36' '2' '3' '289' '240'\n",
      " '209' '43' '34' '252' '29' '263' '301' '23' '188' '211' '253' '21' '173']\n",
      "T4U ['1.14' nan '0.91' '0.87' '1.3' '0.92' '0.7' '0.93' '0.89' '0.95' '0.99'\n",
      " '1.13' '0.86' '0.96' '0.94' '0.9' '1.02' '1.05' '0.62' '1.06' '1.55'\n",
      " '0.83' '1.09' '1.07' '1.27' '0.76' '1.16' '1' '0.56' '0.81' '0.68' '0.78'\n",
      " '0.85' '1.35' '1.15' '0.82' '1.03' '1.58' '0.79' '1.17' '0.71' '0.72'\n",
      " '0.88' '1.11' '1.2' '1.1' '1.33' '0.77' '1.24' '0.53' '1.44' '1.63'\n",
      " '1.51' '1.42' '1.23' '1.01' '0.98' '0.61' '1.12' '1.43' '1.25' '1.41'\n",
      " '1.68' '0.97' '0.84' '0.8' '1.04' '0.73' '1.08' '1.26' '1.46' '1.29'\n",
      " '1.34' '1.66' '1.21' '1.19' '0.75' '0.52' '1.83' '1.39' '1.5' '1.93'\n",
      " '1.18' '0.74' '0.58' '1.82' '0.6' '1.67' '1.22' '0.66' '0.67' '1.31'\n",
      " '0.54' '1.77' '1.59' '1.97' '1.69' '1.38' '1.28' '1.4' '0.69' '0.65'\n",
      " '1.74' '2.03' '1.73' '1.65' '1.36' '1.52' '0.57' '1.53' '1.84' '1.57'\n",
      " '1.75' '1.32' '1.37' '0.64' '1.79' '1.8' '0.48' '1.71' '1.62' '1.76'\n",
      " '1.56' '1.48' '0.59' '0.31' '1.94' '2.12' '1.47' '0.63' '0.944' '0.49'\n",
      " '1.88' '0.5' '0.38' '1.49' '0.41' '1.61' '1.7']\n",
      "FTI ['109' nan '120' '70' '141' '78' '115' '132' '93' '121' '153' '151' '107'\n",
      " '119' '87' '81' '104' '130' '106' '116' '131' '190' '92' '102' '76' '98'\n",
      " '90' '61' '94' '129' '95' '91' '33' '113' '148' '140' '171' '155' '186'\n",
      " '122' '136' '110' '111' '97' '72' '100' '88' '67' '84' '103' '135' '203'\n",
      " '112' '117' '180' '142' '145' '156' '96' '134' '8.9' '60' '139' '41' '99'\n",
      " '89' '146' '124' '105' '85' '157' '143' '71' '221' '28' '108' '137' '83'\n",
      " '74' '170' '65' '101' '127' '274' '154' '114' '62' '86' '126' '125' '64'\n",
      " '172' '162' '79' '118' '73' '152' '163' '149' '14' '51' '165' '77' '32'\n",
      " '69' '80' '11' '54' '164' '123' '144' '10' '214' '200' '160' '53' '16'\n",
      " '138' '169' '56' '47' '133' '43' '68' '179' '224' '220' '82' '362' '182'\n",
      " '75' '66' '161' '57' '58' '312' '63' '128' '147' '158' '281' '207' '216'\n",
      " '251' '194' '46' '7' '42' '174' '395' '185' '13' '201' '48' '173' '167'\n",
      " '188' '150' '235' '175' '159' '5.4' '189' '59' '166' '34' '228' '232'\n",
      " '217' '177' '176' '195' '219' '17' '210' '168' '205' '39' '187' '50'\n",
      " '349' '52' '206' '253' '242' '244' '213' '178' '247' '215' '198' '19'\n",
      " '237' '37' '7.6' '24' '2' '3' '191' '223' '9' '29' '222' '204' '26' '218'\n",
      " '197' '49' '209' '183']\n",
      "Category ['negative' 'hyperthyroid' 'hypothyroid' 'sick']\n"
     ]
    }
   ],
   "source": [
    "# Check for unique values\n",
    "for column in data.columns:\n",
    "    print(column,(data[column].unique()))"
   ]
  },
  {
   "cell_type": "code",
   "execution_count": 88,
   "metadata": {},
   "outputs": [],
   "source": [
    "# handling missing values\n",
    "data['Age'].fillna((data['Age'].median()), inplace = True)\n",
    "data['TSH'].fillna((data['TSH'].median()), inplace = True)\n",
    "data['T3'].fillna((data['T3'].median()), inplace = True)\n",
    "data['TT4'].fillna((data['TT4'].median()), inplace = True)\n",
    "data['T4U'].fillna((data['T4U'].median()), inplace = True)\n",
    "data['FTI'].fillna((data['FTI'].median()), inplace = True)\n",
    "data['Sex'].fillna((data['Sex'].mode()), inplace=True)"
   ]
  },
  {
   "cell_type": "code",
   "execution_count": 89,
   "metadata": {},
   "outputs": [
    {
     "data": {
      "text/plain": [
       "Index(['Age', 'Sex', 'Sick', 'Pregnant', 'Thyroid Surgery', 'Goitre', 'Tumor',\n",
       "       'TSH', 'T3', 'TT4', 'T4U', 'FTI', 'Category'],\n",
       "      dtype='object')"
      ]
     },
     "execution_count": 89,
     "metadata": {},
     "output_type": "execute_result"
    }
   ],
   "source": [
    "data.columns"
   ]
  },
  {
   "cell_type": "code",
   "execution_count": 90,
   "metadata": {},
   "outputs": [],
   "source": [
    "data['Age']=data['Age'].astype('int')\n",
    "data['T3']=data['T3'].astype('float')\n",
    "data['TT4']=data['TT4'].astype('float')\n",
    "data['T4U']=data['T4U'].astype('float')\n",
    "data['FTI']=data['FTI'].astype('float')\n",
    "data['Category']=data['Category'].astype('object')\n",
    "data['TSH']=data['TSH'].astype('float')\n"
   ]
  },
  {
   "cell_type": "code",
   "execution_count": 91,
   "metadata": {},
   "outputs": [
    {
     "name": "stdout",
     "output_type": "stream",
     "text": [
      "<class 'pandas.core.frame.DataFrame'>\n",
      "RangeIndex: 3221 entries, 0 to 3220\n",
      "Data columns (total 13 columns):\n",
      " #   Column           Non-Null Count  Dtype  \n",
      "---  ------           --------------  -----  \n",
      " 0   Age              3221 non-null   int32  \n",
      " 1   Sex              3094 non-null   object \n",
      " 2   Sick             3221 non-null   object \n",
      " 3   Pregnant         3221 non-null   object \n",
      " 4   Thyroid Surgery  3221 non-null   object \n",
      " 5   Goitre           3221 non-null   object \n",
      " 6   Tumor            3221 non-null   object \n",
      " 7   TSH              3221 non-null   float64\n",
      " 8   T3               3221 non-null   float64\n",
      " 9   TT4              3221 non-null   float64\n",
      " 10  T4U              3221 non-null   float64\n",
      " 11  FTI              3221 non-null   float64\n",
      " 12  Category         3221 non-null   object \n",
      "dtypes: float64(5), int32(1), object(7)\n",
      "memory usage: 314.7+ KB\n"
     ]
    }
   ],
   "source": [
    "data.info()"
   ]
  },
  {
   "cell_type": "code",
   "execution_count": 92,
   "metadata": {},
   "outputs": [
    {
     "data": {
      "text/html": [
       "<div>\n",
       "<style scoped>\n",
       "    .dataframe tbody tr th:only-of-type {\n",
       "        vertical-align: middle;\n",
       "    }\n",
       "\n",
       "    .dataframe tbody tr th {\n",
       "        vertical-align: top;\n",
       "    }\n",
       "\n",
       "    .dataframe thead th {\n",
       "        text-align: right;\n",
       "    }\n",
       "</style>\n",
       "<table border=\"1\" class=\"dataframe\">\n",
       "  <thead>\n",
       "    <tr style=\"text-align: right;\">\n",
       "      <th></th>\n",
       "      <th>Age</th>\n",
       "      <th>TSH</th>\n",
       "      <th>T3</th>\n",
       "      <th>TT4</th>\n",
       "      <th>T4U</th>\n",
       "      <th>FTI</th>\n",
       "    </tr>\n",
       "  </thead>\n",
       "  <tbody>\n",
       "    <tr>\n",
       "      <th>count</th>\n",
       "      <td>3221.000000</td>\n",
       "      <td>3221.000000</td>\n",
       "      <td>3221.000000</td>\n",
       "      <td>3221.000000</td>\n",
       "      <td>3221.000000</td>\n",
       "      <td>3221.000000</td>\n",
       "    </tr>\n",
       "    <tr>\n",
       "      <th>mean</th>\n",
       "      <td>52.533375</td>\n",
       "      <td>6.322330</td>\n",
       "      <td>1.951770</td>\n",
       "      <td>107.551630</td>\n",
       "      <td>0.988229</td>\n",
       "      <td>110.261347</td>\n",
       "    </tr>\n",
       "    <tr>\n",
       "      <th>std</th>\n",
       "      <td>20.378207</td>\n",
       "      <td>26.543102</td>\n",
       "      <td>0.839899</td>\n",
       "      <td>38.091518</td>\n",
       "      <td>0.185982</td>\n",
       "      <td>35.967317</td>\n",
       "    </tr>\n",
       "    <tr>\n",
       "      <th>min</th>\n",
       "      <td>1.000000</td>\n",
       "      <td>0.005000</td>\n",
       "      <td>0.050000</td>\n",
       "      <td>2.000000</td>\n",
       "      <td>0.310000</td>\n",
       "      <td>2.000000</td>\n",
       "    </tr>\n",
       "    <tr>\n",
       "      <th>25%</th>\n",
       "      <td>37.000000</td>\n",
       "      <td>0.580000</td>\n",
       "      <td>1.600000</td>\n",
       "      <td>86.000000</td>\n",
       "      <td>0.880000</td>\n",
       "      <td>93.000000</td>\n",
       "    </tr>\n",
       "    <tr>\n",
       "      <th>50%</th>\n",
       "      <td>55.000000</td>\n",
       "      <td>1.500000</td>\n",
       "      <td>1.900000</td>\n",
       "      <td>102.000000</td>\n",
       "      <td>0.970000</td>\n",
       "      <td>106.000000</td>\n",
       "    </tr>\n",
       "    <tr>\n",
       "      <th>75%</th>\n",
       "      <td>68.000000</td>\n",
       "      <td>3.000000</td>\n",
       "      <td>2.200000</td>\n",
       "      <td>123.000000</td>\n",
       "      <td>1.070000</td>\n",
       "      <td>123.000000</td>\n",
       "    </tr>\n",
       "    <tr>\n",
       "      <th>max</th>\n",
       "      <td>455.000000</td>\n",
       "      <td>478.000000</td>\n",
       "      <td>10.600000</td>\n",
       "      <td>430.000000</td>\n",
       "      <td>2.120000</td>\n",
       "      <td>395.000000</td>\n",
       "    </tr>\n",
       "  </tbody>\n",
       "</table>\n",
       "</div>"
      ],
      "text/plain": [
       "               Age          TSH           T3          TT4          T4U  \\\n",
       "count  3221.000000  3221.000000  3221.000000  3221.000000  3221.000000   \n",
       "mean     52.533375     6.322330     1.951770   107.551630     0.988229   \n",
       "std      20.378207    26.543102     0.839899    38.091518     0.185982   \n",
       "min       1.000000     0.005000     0.050000     2.000000     0.310000   \n",
       "25%      37.000000     0.580000     1.600000    86.000000     0.880000   \n",
       "50%      55.000000     1.500000     1.900000   102.000000     0.970000   \n",
       "75%      68.000000     3.000000     2.200000   123.000000     1.070000   \n",
       "max     455.000000   478.000000    10.600000   430.000000     2.120000   \n",
       "\n",
       "               FTI  \n",
       "count  3221.000000  \n",
       "mean    110.261347  \n",
       "std      35.967317  \n",
       "min       2.000000  \n",
       "25%      93.000000  \n",
       "50%     106.000000  \n",
       "75%     123.000000  \n",
       "max     395.000000  "
      ]
     },
     "execution_count": 92,
     "metadata": {},
     "output_type": "execute_result"
    }
   ],
   "source": [
    "data.describe()"
   ]
  },
  {
   "cell_type": "code",
   "execution_count": 93,
   "metadata": {},
   "outputs": [
    {
     "name": "stdout",
     "output_type": "stream",
     "text": [
      "Numerical columns: Index(['Age', 'TSH', 'T3', 'TT4', 'T4U', 'FTI'], dtype='object')\n",
      "Categorical Columns: Index(['Sex', 'Sick', 'Pregnant', 'Thyroid Surgery', 'Goitre', 'Tumor',\n",
      "       'Category'],\n",
      "      dtype='object')\n"
     ]
    }
   ],
   "source": [
    "## segregate numerical and categorical columns\n",
    "\n",
    "numerical_columns=data.columns[data.dtypes!='object']\n",
    "categorical_columns=data.columns[data.dtypes=='object']\n",
    "print(\"Numerical columns:\",numerical_columns)\n",
    "print('Categorical Columns:',categorical_columns)"
   ]
  },
  {
   "cell_type": "code",
   "execution_count": 94,
   "metadata": {},
   "outputs": [
    {
     "data": {
      "text/html": [
       "<div>\n",
       "<style scoped>\n",
       "    .dataframe tbody tr th:only-of-type {\n",
       "        vertical-align: middle;\n",
       "    }\n",
       "\n",
       "    .dataframe tbody tr th {\n",
       "        vertical-align: top;\n",
       "    }\n",
       "\n",
       "    .dataframe thead th {\n",
       "        text-align: right;\n",
       "    }\n",
       "</style>\n",
       "<table border=\"1\" class=\"dataframe\">\n",
       "  <thead>\n",
       "    <tr style=\"text-align: right;\">\n",
       "      <th></th>\n",
       "      <th>Sex</th>\n",
       "      <th>Sick</th>\n",
       "      <th>Pregnant</th>\n",
       "      <th>Thyroid Surgery</th>\n",
       "      <th>Goitre</th>\n",
       "      <th>Tumor</th>\n",
       "      <th>Category</th>\n",
       "    </tr>\n",
       "  </thead>\n",
       "  <tbody>\n",
       "    <tr>\n",
       "      <th>count</th>\n",
       "      <td>3094</td>\n",
       "      <td>3221</td>\n",
       "      <td>3221</td>\n",
       "      <td>3221</td>\n",
       "      <td>3221</td>\n",
       "      <td>3221</td>\n",
       "      <td>3221</td>\n",
       "    </tr>\n",
       "    <tr>\n",
       "      <th>unique</th>\n",
       "      <td>2</td>\n",
       "      <td>2</td>\n",
       "      <td>2</td>\n",
       "      <td>2</td>\n",
       "      <td>2</td>\n",
       "      <td>2</td>\n",
       "      <td>4</td>\n",
       "    </tr>\n",
       "    <tr>\n",
       "      <th>top</th>\n",
       "      <td>F</td>\n",
       "      <td>f</td>\n",
       "      <td>f</td>\n",
       "      <td>f</td>\n",
       "      <td>f</td>\n",
       "      <td>f</td>\n",
       "      <td>negative</td>\n",
       "    </tr>\n",
       "    <tr>\n",
       "      <th>freq</th>\n",
       "      <td>2108</td>\n",
       "      <td>3080</td>\n",
       "      <td>3175</td>\n",
       "      <td>3180</td>\n",
       "      <td>3194</td>\n",
       "      <td>3130</td>\n",
       "      <td>2753</td>\n",
       "    </tr>\n",
       "  </tbody>\n",
       "</table>\n",
       "</div>"
      ],
      "text/plain": [
       "         Sex  Sick Pregnant Thyroid Surgery Goitre Tumor  Category\n",
       "count   3094  3221     3221            3221   3221  3221      3221\n",
       "unique     2     2        2               2      2     2         4\n",
       "top        F     f        f               f      f     f  negative\n",
       "freq    2108  3080     3175            3180   3194  3130      2753"
      ]
     },
     "execution_count": 94,
     "metadata": {},
     "output_type": "execute_result"
    }
   ],
   "source": [
    "data[categorical_columns].describe()"
   ]
  },
  {
   "cell_type": "code",
   "execution_count": 95,
   "metadata": {},
   "outputs": [
    {
     "data": {
      "text/plain": [
       "Sex\n",
       "F    2108\n",
       "M     986\n",
       "Name: count, dtype: int64"
      ]
     },
     "execution_count": 95,
     "metadata": {},
     "output_type": "execute_result"
    }
   ],
   "source": [
    "data['Sex'].value_counts()"
   ]
  },
  {
   "cell_type": "code",
   "execution_count": 96,
   "metadata": {},
   "outputs": [
    {
     "data": {
      "text/plain": [
       "Sick\n",
       "f    3080\n",
       "t     141\n",
       "Name: count, dtype: int64"
      ]
     },
     "execution_count": 96,
     "metadata": {},
     "output_type": "execute_result"
    }
   ],
   "source": [
    "data['Sick'].value_counts()"
   ]
  },
  {
   "cell_type": "code",
   "execution_count": 97,
   "metadata": {},
   "outputs": [
    {
     "data": {
      "text/plain": [
       "Thyroid Surgery\n",
       "f    3180\n",
       "t      41\n",
       "Name: count, dtype: int64"
      ]
     },
     "execution_count": 97,
     "metadata": {},
     "output_type": "execute_result"
    }
   ],
   "source": [
    "data['Thyroid Surgery'].value_counts()"
   ]
  },
  {
   "cell_type": "code",
   "execution_count": 98,
   "metadata": {},
   "outputs": [
    {
     "data": {
      "text/plain": [
       "Pregnant\n",
       "f    3175\n",
       "t      46\n",
       "Name: count, dtype: int64"
      ]
     },
     "execution_count": 98,
     "metadata": {},
     "output_type": "execute_result"
    }
   ],
   "source": [
    "data['Pregnant'].value_counts()"
   ]
  },
  {
   "cell_type": "code",
   "execution_count": null,
   "metadata": {},
   "outputs": [],
   "source": []
  },
  {
   "cell_type": "code",
   "execution_count": 99,
   "metadata": {},
   "outputs": [],
   "source": [
    "import seaborn as sns\n",
    "import matplotlib.pyplot as plt"
   ]
  },
  {
   "cell_type": "code",
   "execution_count": 100,
   "metadata": {},
   "outputs": [
    {
     "name": "stderr",
     "output_type": "stream",
     "text": [
      "C:\\Users\\ASUS\\AppData\\Local\\Temp\\ipykernel_6764\\1314556968.py:8: UserWarning: \n",
      "\n",
      "`distplot` is a deprecated function and will be removed in seaborn v0.14.0.\n",
      "\n",
      "Please adapt your code to use either `displot` (a figure-level function with\n",
      "similar flexibility) or `histplot` (an axes-level function for histograms).\n",
      "\n",
      "For a guide to updating your code to use the new functions, please see\n",
      "https://gist.github.com/mwaskom/de44147ed2974457ad6372750bbe5751\n",
      "\n",
      "  sns.distplot(data[column])\n",
      "C:\\Users\\ASUS\\AppData\\Local\\Temp\\ipykernel_6764\\1314556968.py:8: UserWarning: \n",
      "\n",
      "`distplot` is a deprecated function and will be removed in seaborn v0.14.0.\n",
      "\n",
      "Please adapt your code to use either `displot` (a figure-level function with\n",
      "similar flexibility) or `histplot` (an axes-level function for histograms).\n",
      "\n",
      "For a guide to updating your code to use the new functions, please see\n",
      "https://gist.github.com/mwaskom/de44147ed2974457ad6372750bbe5751\n",
      "\n",
      "  sns.distplot(data[column])\n",
      "C:\\Users\\ASUS\\AppData\\Local\\Temp\\ipykernel_6764\\1314556968.py:8: UserWarning: \n",
      "\n",
      "`distplot` is a deprecated function and will be removed in seaborn v0.14.0.\n",
      "\n",
      "Please adapt your code to use either `displot` (a figure-level function with\n",
      "similar flexibility) or `histplot` (an axes-level function for histograms).\n",
      "\n",
      "For a guide to updating your code to use the new functions, please see\n",
      "https://gist.github.com/mwaskom/de44147ed2974457ad6372750bbe5751\n",
      "\n",
      "  sns.distplot(data[column])\n",
      "C:\\Users\\ASUS\\AppData\\Local\\Temp\\ipykernel_6764\\1314556968.py:8: UserWarning: \n",
      "\n",
      "`distplot` is a deprecated function and will be removed in seaborn v0.14.0.\n",
      "\n",
      "Please adapt your code to use either `displot` (a figure-level function with\n",
      "similar flexibility) or `histplot` (an axes-level function for histograms).\n",
      "\n",
      "For a guide to updating your code to use the new functions, please see\n",
      "https://gist.github.com/mwaskom/de44147ed2974457ad6372750bbe5751\n",
      "\n",
      "  sns.distplot(data[column])\n",
      "C:\\Users\\ASUS\\AppData\\Local\\Temp\\ipykernel_6764\\1314556968.py:8: UserWarning: \n",
      "\n",
      "`distplot` is a deprecated function and will be removed in seaborn v0.14.0.\n",
      "\n",
      "Please adapt your code to use either `displot` (a figure-level function with\n",
      "similar flexibility) or `histplot` (an axes-level function for histograms).\n",
      "\n",
      "For a guide to updating your code to use the new functions, please see\n",
      "https://gist.github.com/mwaskom/de44147ed2974457ad6372750bbe5751\n",
      "\n",
      "  sns.distplot(data[column])\n",
      "C:\\Users\\ASUS\\AppData\\Local\\Temp\\ipykernel_6764\\1314556968.py:8: UserWarning: \n",
      "\n",
      "`distplot` is a deprecated function and will be removed in seaborn v0.14.0.\n",
      "\n",
      "Please adapt your code to use either `displot` (a figure-level function with\n",
      "similar flexibility) or `histplot` (an axes-level function for histograms).\n",
      "\n",
      "For a guide to updating your code to use the new functions, please see\n",
      "https://gist.github.com/mwaskom/de44147ed2974457ad6372750bbe5751\n",
      "\n",
      "  sns.distplot(data[column])\n"
     ]
    },
    {
     "data": {
      "image/png": "[encoded data removed]",
      "text/plain": [
       "<Figure size 1000x1500 with 6 Axes>"
      ]
     },
     "metadata": {},
     "output_type": "display_data"
    }
   ],
   "source": [
    "columns = numerical_columns\n",
    "\n",
    "plt.figure(figsize=(10,15),facecolor='white')\n",
    "plotnumber = 1\n",
    "\n",
    "for column in columns:\n",
    "    ax = plt.subplot(3,2,plotnumber)\n",
    "    sns.distplot(data[column])\n",
    "    plt.xlabel(column,fontsize=10)\n",
    "    plotnumber+=1\n",
    "plt.show()"
   ]
  },
  {
   "cell_type": "code",
   "execution_count": 101,
   "metadata": {},
   "outputs": [
    {
     "ename": "ValueError",
     "evalue": "num must be an integer with 1 <= num <= 6, not 7",
     "output_type": "error",
     "traceback": [
      "\u001b[1;31m---------------------------------------------------------------------------\u001b[0m",
      "\u001b[1;31mValueError\u001b[0m                                Traceback (most recent call last)",
      "Cell \u001b[1;32mIn[101], line 7\u001b[0m\n\u001b[0;32m      4\u001b[0m plotnumber \u001b[38;5;241m=\u001b[39m \u001b[38;5;241m1\u001b[39m\n\u001b[0;32m      6\u001b[0m \u001b[38;5;28;01mfor\u001b[39;00m column \u001b[38;5;129;01min\u001b[39;00m columns:\n\u001b[1;32m----> 7\u001b[0m     ax \u001b[38;5;241m=\u001b[39m \u001b[43mplt\u001b[49m\u001b[38;5;241;43m.\u001b[39;49m\u001b[43msubplot\u001b[49m\u001b[43m(\u001b[49m\u001b[38;5;241;43m3\u001b[39;49m\u001b[43m,\u001b[49m\u001b[38;5;241;43m2\u001b[39;49m\u001b[43m,\u001b[49m\u001b[43mplotnumber\u001b[49m\u001b[43m)\u001b[49m\n\u001b[0;32m      8\u001b[0m     sns\u001b[38;5;241m.\u001b[39mcountplot(data[column])\n\u001b[0;32m      9\u001b[0m     plt\u001b[38;5;241m.\u001b[39mxlabel(column,fontsize\u001b[38;5;241m=\u001b[39m\u001b[38;5;241m10\u001b[39m)\n",
      "File \u001b[1;32mc:\\THYROID_PREDICTION\\venv\\lib\\site-packages\\matplotlib\\pyplot.py:1323\u001b[0m, in \u001b[0;36msubplot\u001b[1;34m(*args, **kwargs)\u001b[0m\n\u001b[0;32m   1320\u001b[0m fig \u001b[38;5;241m=\u001b[39m gcf()\n\u001b[0;32m   1322\u001b[0m \u001b[38;5;66;03m# First, search for an existing subplot with a matching spec.\u001b[39;00m\n\u001b[1;32m-> 1323\u001b[0m key \u001b[38;5;241m=\u001b[39m \u001b[43mSubplotSpec\u001b[49m\u001b[38;5;241;43m.\u001b[39;49m\u001b[43m_from_subplot_args\u001b[49m\u001b[43m(\u001b[49m\u001b[43mfig\u001b[49m\u001b[43m,\u001b[49m\u001b[43m \u001b[49m\u001b[43margs\u001b[49m\u001b[43m)\u001b[49m\n\u001b[0;32m   1325\u001b[0m \u001b[38;5;28;01mfor\u001b[39;00m ax \u001b[38;5;129;01min\u001b[39;00m fig\u001b[38;5;241m.\u001b[39maxes:\n\u001b[0;32m   1326\u001b[0m     \u001b[38;5;66;03m# if we found an Axes at the position sort out if we can re-use it\u001b[39;00m\n\u001b[0;32m   1327\u001b[0m     \u001b[38;5;28;01mif\u001b[39;00m ax\u001b[38;5;241m.\u001b[39mget_subplotspec() \u001b[38;5;241m==\u001b[39m key:\n\u001b[0;32m   1328\u001b[0m         \u001b[38;5;66;03m# if the user passed no kwargs, re-use\u001b[39;00m\n",
      "File \u001b[1;32mc:\\THYROID_PREDICTION\\venv\\lib\\site-packages\\matplotlib\\gridspec.py:600\u001b[0m, in \u001b[0;36mSubplotSpec._from_subplot_args\u001b[1;34m(figure, args)\u001b[0m\n\u001b[0;32m    598\u001b[0m \u001b[38;5;28;01melse\u001b[39;00m:\n\u001b[0;32m    599\u001b[0m     \u001b[38;5;28;01mif\u001b[39;00m \u001b[38;5;129;01mnot\u001b[39;00m \u001b[38;5;28misinstance\u001b[39m(num, Integral) \u001b[38;5;129;01mor\u001b[39;00m num \u001b[38;5;241m<\u001b[39m \u001b[38;5;241m1\u001b[39m \u001b[38;5;129;01mor\u001b[39;00m num \u001b[38;5;241m>\u001b[39m rows\u001b[38;5;241m*\u001b[39mcols:\n\u001b[1;32m--> 600\u001b[0m         \u001b[38;5;28;01mraise\u001b[39;00m \u001b[38;5;167;01mValueError\u001b[39;00m(\n\u001b[0;32m    601\u001b[0m             \u001b[38;5;124mf\u001b[39m\u001b[38;5;124m\"\u001b[39m\u001b[38;5;124mnum must be an integer with 1 <= num <= \u001b[39m\u001b[38;5;132;01m{\u001b[39;00mrows\u001b[38;5;241m*\u001b[39mcols\u001b[38;5;132;01m}\u001b[39;00m\u001b[38;5;124m, \u001b[39m\u001b[38;5;124m\"\u001b[39m\n\u001b[0;32m    602\u001b[0m             \u001b[38;5;124mf\u001b[39m\u001b[38;5;124m\"\u001b[39m\u001b[38;5;124mnot \u001b[39m\u001b[38;5;132;01m{\u001b[39;00mnum\u001b[38;5;132;01m!r}\u001b[39;00m\u001b[38;5;124m\"\u001b[39m\n\u001b[0;32m    603\u001b[0m         )\n\u001b[0;32m    604\u001b[0m     i \u001b[38;5;241m=\u001b[39m j \u001b[38;5;241m=\u001b[39m num\n\u001b[0;32m    605\u001b[0m \u001b[38;5;28;01mreturn\u001b[39;00m gs[i\u001b[38;5;241m-\u001b[39m\u001b[38;5;241m1\u001b[39m:j]\n",
      "\u001b[1;31mValueError\u001b[0m: num must be an integer with 1 <= num <= 6, not 7"
     ]
    },
    {
     "data": {
      "image/png": "[encoded data removed]",
      "text/plain": [
       "<Figure size 1000x1500 with 6 Axes>"
      ]
     },
     "metadata": {},
     "output_type": "display_data"
    }
   ],
   "source": [
    "columns = categorical_columns\n",
    "\n",
    "plt.figure(figsize=(10,15),facecolor='white')\n",
    "plotnumber = 1\n",
    "\n",
    "for column in columns:\n",
    "    ax = plt.subplot(3,2,plotnumber)\n",
    "    sns.countplot(data[column])\n",
    "    plt.xlabel(column,fontsize=10)\n",
    "    plotnumber+=1\n",
    "plt.show()"
   ]
  },
  {
   "cell_type": "code",
   "execution_count": null,
   "metadata": {},
   "outputs": [
    {
     "data": {
      "text/html": [
       "<div>\n",
       "<style scoped>\n",
       "    .dataframe tbody tr th:only-of-type {\n",
       "        vertical-align: middle;\n",
       "    }\n",
       "\n",
       "    .dataframe tbody tr th {\n",
       "        vertical-align: top;\n",
       "    }\n",
       "\n",
       "    .dataframe thead th {\n",
       "        text-align: right;\n",
       "    }\n",
       "</style>\n",
       "<table border=\"1\" class=\"dataframe\">\n",
       "  <thead>\n",
       "    <tr style=\"text-align: right;\">\n",
       "      <th></th>\n",
       "      <th>Age</th>\n",
       "      <th>TSH</th>\n",
       "      <th>T3</th>\n",
       "      <th>TT4</th>\n",
       "      <th>T4U</th>\n",
       "      <th>FTI</th>\n",
       "    </tr>\n",
       "  </thead>\n",
       "  <tbody>\n",
       "    <tr>\n",
       "      <th>count</th>\n",
       "      <td>3221.000000</td>\n",
       "      <td>3221.000000</td>\n",
       "      <td>3221.000000</td>\n",
       "      <td>3221.000000</td>\n",
       "      <td>3221.000000</td>\n",
       "      <td>3221.000000</td>\n",
       "    </tr>\n",
       "    <tr>\n",
       "      <th>mean</th>\n",
       "      <td>52.533375</td>\n",
       "      <td>6.322330</td>\n",
       "      <td>1.951770</td>\n",
       "      <td>107.551630</td>\n",
       "      <td>0.988229</td>\n",
       "      <td>110.261347</td>\n",
       "    </tr>\n",
       "    <tr>\n",
       "      <th>std</th>\n",
       "      <td>20.378207</td>\n",
       "      <td>26.543102</td>\n",
       "      <td>0.839899</td>\n",
       "      <td>38.091518</td>\n",
       "      <td>0.185982</td>\n",
       "      <td>35.967317</td>\n",
       "    </tr>\n",
       "    <tr>\n",
       "      <th>min</th>\n",
       "      <td>1.000000</td>\n",
       "      <td>0.005000</td>\n",
       "      <td>0.050000</td>\n",
       "      <td>2.000000</td>\n",
       "      <td>0.310000</td>\n",
       "      <td>2.000000</td>\n",
       "    </tr>\n",
       "    <tr>\n",
       "      <th>25%</th>\n",
       "      <td>37.000000</td>\n",
       "      <td>0.580000</td>\n",
       "      <td>1.600000</td>\n",
       "      <td>86.000000</td>\n",
       "      <td>0.880000</td>\n",
       "      <td>93.000000</td>\n",
       "    </tr>\n",
       "    <tr>\n",
       "      <th>50%</th>\n",
       "      <td>55.000000</td>\n",
       "      <td>1.500000</td>\n",
       "      <td>1.900000</td>\n",
       "      <td>102.000000</td>\n",
       "      <td>0.970000</td>\n",
       "      <td>106.000000</td>\n",
       "    </tr>\n",
       "    <tr>\n",
       "      <th>75%</th>\n",
       "      <td>68.000000</td>\n",
       "      <td>3.000000</td>\n",
       "      <td>2.200000</td>\n",
       "      <td>123.000000</td>\n",
       "      <td>1.070000</td>\n",
       "      <td>123.000000</td>\n",
       "    </tr>\n",
       "    <tr>\n",
       "      <th>max</th>\n",
       "      <td>455.000000</td>\n",
       "      <td>478.000000</td>\n",
       "      <td>10.600000</td>\n",
       "      <td>430.000000</td>\n",
       "      <td>2.120000</td>\n",
       "      <td>395.000000</td>\n",
       "    </tr>\n",
       "  </tbody>\n",
       "</table>\n",
       "</div>"
      ],
      "text/plain": [
       "               Age          TSH           T3          TT4          T4U  \\\n",
       "count  3221.000000  3221.000000  3221.000000  3221.000000  3221.000000   \n",
       "mean     52.533375     6.322330     1.951770   107.551630     0.988229   \n",
       "std      20.378207    26.543102     0.839899    38.091518     0.185982   \n",
       "min       1.000000     0.005000     0.050000     2.000000     0.310000   \n",
       "25%      37.000000     0.580000     1.600000    86.000000     0.880000   \n",
       "50%      55.000000     1.500000     1.900000   102.000000     0.970000   \n",
       "75%      68.000000     3.000000     2.200000   123.000000     1.070000   \n",
       "max     455.000000   478.000000    10.600000   430.000000     2.120000   \n",
       "\n",
       "               FTI  \n",
       "count  3221.000000  \n",
       "mean    110.261347  \n",
       "std      35.967317  \n",
       "min       2.000000  \n",
       "25%      93.000000  \n",
       "50%     106.000000  \n",
       "75%     123.000000  \n",
       "max     395.000000  "
      ]
     },
     "execution_count": 36,
     "metadata": {},
     "output_type": "execute_result"
    }
   ],
   "source": [
    "data.describe()"
   ]
  },
  {
   "cell_type": "code",
   "execution_count": null,
   "metadata": {},
   "outputs": [
    {
     "name": "stdout",
     "output_type": "stream",
     "text": [
      "<class 'pandas.core.frame.DataFrame'>\n",
      "RangeIndex: 3221 entries, 0 to 3220\n",
      "Data columns (total 13 columns):\n",
      " #   Column           Non-Null Count  Dtype  \n",
      "---  ------           --------------  -----  \n",
      " 0   Age              3221 non-null   int32  \n",
      " 1   Sex              3094 non-null   object \n",
      " 2   Sick             3221 non-null   object \n",
      " 3   Pregnant         3221 non-null   object \n",
      " 4   Thyroid Surgery  3221 non-null   object \n",
      " 5   Goitre           3221 non-null   object \n",
      " 6   Tumor            3221 non-null   object \n",
      " 7   TSH              3221 non-null   float64\n",
      " 8   T3               3221 non-null   float64\n",
      " 9   TT4              3221 non-null   float64\n",
      " 10  T4U              3221 non-null   float64\n",
      " 11  FTI              3221 non-null   float64\n",
      " 12  Category         3221 non-null   object \n",
      "dtypes: float64(5), int32(1), object(7)\n",
      "memory usage: 314.7+ KB\n"
     ]
    }
   ],
   "source": [
    "data.info()"
   ]
  },
  {
   "cell_type": "code",
   "execution_count": null,
   "metadata": {},
   "outputs": [],
   "source": [
    "# the graph TSH is heavily skewed towards left . so we drop it\n",
    "data=data.drop(['TSH'], axis=1)"
   ]
  },
  {
   "cell_type": "code",
   "execution_count": null,
   "metadata": {},
   "outputs": [],
   "source": [
    "from sklearn.preprocessing import LabelEncoder\n",
    "lblEn=LabelEncoder()\n",
    "data['Category']=lblEn.fit_transform(data['Category'])"
   ]
  },
  {
   "cell_type": "code",
   "execution_count": null,
   "metadata": {},
   "outputs": [
    {
     "data": {
      "text/plain": [
       "<Axes: xlabel='Category', ylabel='Count'>"
      ]
     },
     "execution_count": 40,
     "metadata": {},
     "output_type": "execute_result"
    },
    {
     "data": {
      "image/png": "[encoded data removed]",
      "text/plain": [
       "<Figure size 640x480 with 1 Axes>"
      ]
     },
     "metadata": {},
     "output_type": "display_data"
    }
   ],
   "source": [
    "sns.histplot(x='Category',data=data)"
   ]
  },
  {
   "cell_type": "code",
   "execution_count": null,
   "metadata": {},
   "outputs": [],
   "source": [
    "# data set is highly imbalanced"
   ]
  },
  {
   "cell_type": "code",
   "execution_count": null,
   "metadata": {},
   "outputs": [],
   "source": [
    "X=data.drop(['Category'],axis=1)\n",
    "y=data.Category"
   ]
  },
  {
   "cell_type": "code",
   "execution_count": null,
   "metadata": {},
   "outputs": [
    {
     "name": "stdout",
     "output_type": "stream",
     "text": [
      "Requirement already satisfied: imbalanced-learn in c:\\thyroid_prediction\\venv\\lib\\site-packages (0.12.3)\n",
      "Requirement already satisfied: numpy>=1.17.3 in c:\\thyroid_prediction\\venv\\lib\\site-packages (from imbalanced-learn) (1.24.4)\n",
      "Requirement already satisfied: scipy>=1.5.0 in c:\\thyroid_prediction\\venv\\lib\\site-packages (from imbalanced-learn) (1.10.1)\n",
      "Requirement already satisfied: scikit-learn>=1.0.2 in c:\\thyroid_prediction\\venv\\lib\\site-packages (from imbalanced-learn) (1.3.2)\n",
      "Requirement already satisfied: joblib>=1.1.1 in c:\\thyroid_prediction\\venv\\lib\\site-packages (from imbalanced-learn) (1.3.2)\n",
      "Requirement already satisfied: threadpoolctl>=2.0.0 in c:\\thyroid_prediction\\venv\\lib\\site-packages (from imbalanced-learn) (3.2.0)\n",
      "Note: you may need to restart the kernel to use updated packages.\n"
     ]
    }
   ],
   "source": [
    "pip install imbalanced-learn"
   ]
  },
  {
   "cell_type": "code",
   "execution_count": null,
   "metadata": {},
   "outputs": [
    {
     "data": {
      "image/png": "[encoded data removed]",
      "text/plain": [
       "<Figure size 640x480 with 1 Axes>"
      ]
     },
     "metadata": {},
     "output_type": "display_data"
    },
    {
     "data": {
      "text/plain": [
       "Index(['Age', 'Sex', 'Sick', 'Pregnant', 'Thyroid Surgery', 'Goitre', 'Tumor',\n",
       "       'T3', 'TT4', 'T4U', 'FTI'],\n",
       "      dtype='object')"
      ]
     },
     "execution_count": 42,
     "metadata": {},
     "output_type": "execute_result"
    }
   ],
   "source": [
    "# To balance the dataset\n",
    "from imblearn.over_sampling import SMOTENC,RandomOverSampler,KMeansSMOTE\n",
    "\n",
    "\n",
    "rdsmple=RandomOverSampler()\n",
    "X_sampled,y_sampled=rdsmple.fit_resample(X,y)\n",
    "\n",
    "X_sampled.shape\n",
    "\n",
    "\n",
    "X_sampled=pd.DataFrame(data=X_sampled,columns=X.columns)\n",
    "X_sampled\n",
    "\n",
    "\n",
    "\n",
    "sns.histplot(y_sampled)\n",
    "\n",
    "\n",
    "\n",
    "plt.show()\n",
    "\n",
    "X_sampled.columns\n",
    "\n"
   ]
  },
  {
   "cell_type": "code",
   "execution_count": null,
   "metadata": {},
   "outputs": [],
   "source": [
    "#Now the data is balanced"
   ]
  },
  {
   "cell_type": "code",
   "execution_count": null,
   "metadata": {},
   "outputs": [
    {
     "data": {
      "text/plain": [
       "array([2, 0, 1, 3])"
      ]
     },
     "execution_count": 65,
     "metadata": {},
     "output_type": "execute_result"
    }
   ],
   "source": [
    "y_sampled.unique()"
   ]
  },
  {
   "cell_type": "code",
   "execution_count": null,
   "metadata": {},
   "outputs": [
    {
     "data": {
      "text/plain": [
       "<Axes: >"
      ]
     },
     "execution_count": 74,
     "metadata": {},
     "output_type": "execute_result"
    },
    {
     "data": {
      "image/png": "[encoded data removed]",
      "text/plain": [
       "<Figure size 640x480 with 2 Axes>"
      ]
     },
     "metadata": {},
     "output_type": "display_data"
    }
   ],
   "source": []
  },
  {
   "cell_type": "code",
   "execution_count": null,
   "metadata": {},
   "outputs": [],
   "source": []
  },
  {
   "cell_type": "code",
   "execution_count": null,
   "metadata": {},
   "outputs": [],
   "source": []
  },
  {
   "cell_type": "code",
   "execution_count": null,
   "metadata": {},
   "outputs": [],
   "source": []
  },
  {
   "cell_type": "code",
   "execution_count": null,
   "metadata": {},
   "outputs": [],
   "source": [
    "\n",
    "\n"
   ]
  },
  {
   "cell_type": "code",
   "execution_count": null,
   "metadata": {},
   "outputs": [],
   "source": []
  }
 ],
 "metadata": {
  "kernelspec": {
   "display_name": "Python 3",
   "language": "python",
   "name": "python3"
  },
  "language_info": {
   "codemirror_mode": {
    "name": "ipython",
    "version": 3
   },
   "file_extension": ".py",
   "mimetype": "text/x-python",
   "name": "python",
   "nbconvert_exporter": "python",
   "pygments_lexer": "ipython3",
   "version": "3.8.19"
  }
 },
 "nbformat": 4,
 "nbformat_minor": 2
}
