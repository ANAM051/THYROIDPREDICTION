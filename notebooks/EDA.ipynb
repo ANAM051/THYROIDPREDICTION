{
 "cells": [
  {
   "cell_type": "code",
   "execution_count": 6,
   "metadata": {},
   "outputs": [],
   "source": [
    "import pandas as pd\n",
    "import numpy as np"
   ]
  },
  {
   "cell_type": "code",
   "execution_count": 8,
   "metadata": {},
   "outputs": [],
   "source": [
    "data=pd.read_csv('data/T_HYROID (1).csv')"
   ]
  },
  {
   "cell_type": "code",
   "execution_count": 9,
   "metadata": {},
   "outputs": [
    {
     "name": "stdout",
     "output_type": "stream",
     "text": [
      "<class 'pandas.core.frame.DataFrame'>\n",
      "RangeIndex: 3221 entries, 0 to 3220\n",
      "Data columns (total 28 columns):\n",
      " #   Column                     Non-Null Count  Dtype  \n",
      "---  ------                     --------------  -----  \n",
      " 0   S.no                       3221 non-null   int64  \n",
      " 1   Age                        3221 non-null   int64  \n",
      " 2   Sex                        3094 non-null   object \n",
      " 3   On Thyroxine               3221 non-null   object \n",
      " 4   Query on Thyroxine         3221 non-null   object \n",
      " 5   On Antithyroid Medication  3221 non-null   object \n",
      " 6   Sick                       3221 non-null   object \n",
      " 7   Pregnant                   3221 non-null   object \n",
      " 8   Thyroid Surgery            3221 non-null   object \n",
      " 9   I131 Treatment             3221 non-null   object \n",
      " 10  Query Hypothyroid          3221 non-null   object \n",
      " 11  Query Hyperthyroid         3221 non-null   object \n",
      " 12  Lithium                    3221 non-null   object \n",
      " 13  Goitre                     3221 non-null   object \n",
      " 14  Tumor                      3221 non-null   object \n",
      " 15  Hypopituitary              3221 non-null   object \n",
      " 16  Psych                      3221 non-null   object \n",
      " 17  TSH Measured               3221 non-null   object \n",
      " 18  TSH                        3221 non-null   float64\n",
      " 19  T3 Measured                3221 non-null   object \n",
      " 20  T3                         3221 non-null   float64\n",
      " 21  TT4 Measured               3221 non-null   object \n",
      " 22  TT4                        3221 non-null   float64\n",
      " 23  T4U Measured               3221 non-null   object \n",
      " 24  T4U                        3221 non-null   float64\n",
      " 25  FTI Measured               3221 non-null   object \n",
      " 26  FTI                        3221 non-null   float64\n",
      " 27  Category                   3221 non-null   int64  \n",
      "dtypes: float64(5), int64(3), object(20)\n",
      "memory usage: 704.7+ KB\n"
     ]
    }
   ],
   "source": [
    "data.info()"
   ]
  },
  {
   "cell_type": "code",
   "execution_count": 10,
   "metadata": {},
   "outputs": [
    {
     "data": {
      "text/plain": [
       "array([2, 0, 1, 3], dtype=int64)"
      ]
     },
     "execution_count": 10,
     "metadata": {},
     "output_type": "execute_result"
    }
   ],
   "source": [
    "data.Category.unique()"
   ]
  },
  {
   "cell_type": "code",
   "execution_count": 11,
   "metadata": {},
   "outputs": [
    {
     "data": {
      "text/html": [
       "<div>\n",
       "<style scoped>\n",
       "    .dataframe tbody tr th:only-of-type {\n",
       "        vertical-align: middle;\n",
       "    }\n",
       "\n",
       "    .dataframe tbody tr th {\n",
       "        vertical-align: top;\n",
       "    }\n",
       "\n",
       "    .dataframe thead th {\n",
       "        text-align: right;\n",
       "    }\n",
       "</style>\n",
       "<table border=\"1\" class=\"dataframe\">\n",
       "  <thead>\n",
       "    <tr style=\"text-align: right;\">\n",
       "      <th></th>\n",
       "      <th>S.no</th>\n",
       "      <th>Age</th>\n",
       "      <th>Sex</th>\n",
       "      <th>On Thyroxine</th>\n",
       "      <th>Query on Thyroxine</th>\n",
       "      <th>On Antithyroid Medication</th>\n",
       "      <th>Sick</th>\n",
       "      <th>Pregnant</th>\n",
       "      <th>Thyroid Surgery</th>\n",
       "      <th>I131 Treatment</th>\n",
       "      <th>...</th>\n",
       "      <th>TSH</th>\n",
       "      <th>T3 Measured</th>\n",
       "      <th>T3</th>\n",
       "      <th>TT4 Measured</th>\n",
       "      <th>TT4</th>\n",
       "      <th>T4U Measured</th>\n",
       "      <th>T4U</th>\n",
       "      <th>FTI Measured</th>\n",
       "      <th>FTI</th>\n",
       "      <th>Category</th>\n",
       "    </tr>\n",
       "  </thead>\n",
       "  <tbody>\n",
       "    <tr>\n",
       "      <th>0</th>\n",
       "      <td>0</td>\n",
       "      <td>41</td>\n",
       "      <td>F</td>\n",
       "      <td>f</td>\n",
       "      <td>f</td>\n",
       "      <td>f</td>\n",
       "      <td>f</td>\n",
       "      <td>f</td>\n",
       "      <td>f</td>\n",
       "      <td>f</td>\n",
       "      <td>...</td>\n",
       "      <td>1.30</td>\n",
       "      <td>t</td>\n",
       "      <td>2.5</td>\n",
       "      <td>t</td>\n",
       "      <td>125.0</td>\n",
       "      <td>t</td>\n",
       "      <td>1.14</td>\n",
       "      <td>t</td>\n",
       "      <td>109.0</td>\n",
       "      <td>2</td>\n",
       "    </tr>\n",
       "    <tr>\n",
       "      <th>1</th>\n",
       "      <td>1</td>\n",
       "      <td>23</td>\n",
       "      <td>F</td>\n",
       "      <td>f</td>\n",
       "      <td>f</td>\n",
       "      <td>f</td>\n",
       "      <td>f</td>\n",
       "      <td>f</td>\n",
       "      <td>f</td>\n",
       "      <td>f</td>\n",
       "      <td>...</td>\n",
       "      <td>4.10</td>\n",
       "      <td>t</td>\n",
       "      <td>2.0</td>\n",
       "      <td>t</td>\n",
       "      <td>102.0</td>\n",
       "      <td>f</td>\n",
       "      <td>0.97</td>\n",
       "      <td>f</td>\n",
       "      <td>106.0</td>\n",
       "      <td>2</td>\n",
       "    </tr>\n",
       "    <tr>\n",
       "      <th>2</th>\n",
       "      <td>2</td>\n",
       "      <td>46</td>\n",
       "      <td>M</td>\n",
       "      <td>f</td>\n",
       "      <td>f</td>\n",
       "      <td>f</td>\n",
       "      <td>f</td>\n",
       "      <td>f</td>\n",
       "      <td>f</td>\n",
       "      <td>f</td>\n",
       "      <td>...</td>\n",
       "      <td>0.98</td>\n",
       "      <td>f</td>\n",
       "      <td>1.9</td>\n",
       "      <td>t</td>\n",
       "      <td>109.0</td>\n",
       "      <td>t</td>\n",
       "      <td>0.91</td>\n",
       "      <td>t</td>\n",
       "      <td>120.0</td>\n",
       "      <td>2</td>\n",
       "    </tr>\n",
       "    <tr>\n",
       "      <th>3</th>\n",
       "      <td>3</td>\n",
       "      <td>70</td>\n",
       "      <td>F</td>\n",
       "      <td>t</td>\n",
       "      <td>f</td>\n",
       "      <td>f</td>\n",
       "      <td>f</td>\n",
       "      <td>f</td>\n",
       "      <td>f</td>\n",
       "      <td>f</td>\n",
       "      <td>...</td>\n",
       "      <td>0.16</td>\n",
       "      <td>t</td>\n",
       "      <td>1.9</td>\n",
       "      <td>t</td>\n",
       "      <td>175.0</td>\n",
       "      <td>f</td>\n",
       "      <td>0.97</td>\n",
       "      <td>f</td>\n",
       "      <td>106.0</td>\n",
       "      <td>2</td>\n",
       "    </tr>\n",
       "    <tr>\n",
       "      <th>4</th>\n",
       "      <td>4</td>\n",
       "      <td>70</td>\n",
       "      <td>F</td>\n",
       "      <td>f</td>\n",
       "      <td>f</td>\n",
       "      <td>f</td>\n",
       "      <td>f</td>\n",
       "      <td>f</td>\n",
       "      <td>f</td>\n",
       "      <td>f</td>\n",
       "      <td>...</td>\n",
       "      <td>0.72</td>\n",
       "      <td>t</td>\n",
       "      <td>1.2</td>\n",
       "      <td>t</td>\n",
       "      <td>61.0</td>\n",
       "      <td>t</td>\n",
       "      <td>0.87</td>\n",
       "      <td>t</td>\n",
       "      <td>70.0</td>\n",
       "      <td>2</td>\n",
       "    </tr>\n",
       "    <tr>\n",
       "      <th>5</th>\n",
       "      <td>5</td>\n",
       "      <td>18</td>\n",
       "      <td>F</td>\n",
       "      <td>t</td>\n",
       "      <td>f</td>\n",
       "      <td>f</td>\n",
       "      <td>f</td>\n",
       "      <td>f</td>\n",
       "      <td>f</td>\n",
       "      <td>f</td>\n",
       "      <td>...</td>\n",
       "      <td>0.03</td>\n",
       "      <td>f</td>\n",
       "      <td>1.9</td>\n",
       "      <td>t</td>\n",
       "      <td>183.0</td>\n",
       "      <td>t</td>\n",
       "      <td>1.30</td>\n",
       "      <td>t</td>\n",
       "      <td>141.0</td>\n",
       "      <td>2</td>\n",
       "    </tr>\n",
       "    <tr>\n",
       "      <th>6</th>\n",
       "      <td>6</td>\n",
       "      <td>59</td>\n",
       "      <td>F</td>\n",
       "      <td>f</td>\n",
       "      <td>f</td>\n",
       "      <td>f</td>\n",
       "      <td>f</td>\n",
       "      <td>f</td>\n",
       "      <td>f</td>\n",
       "      <td>f</td>\n",
       "      <td>...</td>\n",
       "      <td>1.50</td>\n",
       "      <td>f</td>\n",
       "      <td>1.9</td>\n",
       "      <td>t</td>\n",
       "      <td>72.0</td>\n",
       "      <td>t</td>\n",
       "      <td>0.92</td>\n",
       "      <td>t</td>\n",
       "      <td>78.0</td>\n",
       "      <td>2</td>\n",
       "    </tr>\n",
       "    <tr>\n",
       "      <th>7</th>\n",
       "      <td>7</td>\n",
       "      <td>80</td>\n",
       "      <td>F</td>\n",
       "      <td>f</td>\n",
       "      <td>f</td>\n",
       "      <td>f</td>\n",
       "      <td>f</td>\n",
       "      <td>f</td>\n",
       "      <td>f</td>\n",
       "      <td>f</td>\n",
       "      <td>...</td>\n",
       "      <td>2.20</td>\n",
       "      <td>t</td>\n",
       "      <td>0.6</td>\n",
       "      <td>t</td>\n",
       "      <td>80.0</td>\n",
       "      <td>t</td>\n",
       "      <td>0.70</td>\n",
       "      <td>t</td>\n",
       "      <td>115.0</td>\n",
       "      <td>2</td>\n",
       "    </tr>\n",
       "    <tr>\n",
       "      <th>8</th>\n",
       "      <td>8</td>\n",
       "      <td>66</td>\n",
       "      <td>F</td>\n",
       "      <td>f</td>\n",
       "      <td>f</td>\n",
       "      <td>f</td>\n",
       "      <td>f</td>\n",
       "      <td>f</td>\n",
       "      <td>f</td>\n",
       "      <td>f</td>\n",
       "      <td>...</td>\n",
       "      <td>0.60</td>\n",
       "      <td>t</td>\n",
       "      <td>2.2</td>\n",
       "      <td>t</td>\n",
       "      <td>123.0</td>\n",
       "      <td>t</td>\n",
       "      <td>0.93</td>\n",
       "      <td>t</td>\n",
       "      <td>132.0</td>\n",
       "      <td>2</td>\n",
       "    </tr>\n",
       "    <tr>\n",
       "      <th>9</th>\n",
       "      <td>9</td>\n",
       "      <td>68</td>\n",
       "      <td>M</td>\n",
       "      <td>f</td>\n",
       "      <td>f</td>\n",
       "      <td>f</td>\n",
       "      <td>f</td>\n",
       "      <td>f</td>\n",
       "      <td>f</td>\n",
       "      <td>f</td>\n",
       "      <td>...</td>\n",
       "      <td>2.40</td>\n",
       "      <td>t</td>\n",
       "      <td>1.6</td>\n",
       "      <td>t</td>\n",
       "      <td>83.0</td>\n",
       "      <td>t</td>\n",
       "      <td>0.89</td>\n",
       "      <td>t</td>\n",
       "      <td>93.0</td>\n",
       "      <td>2</td>\n",
       "    </tr>\n",
       "  </tbody>\n",
       "</table>\n",
       "<p>10 rows × 28 columns</p>\n",
       "</div>"
      ],
      "text/plain": [
       "   S.no  Age Sex On Thyroxine Query on Thyroxine On Antithyroid Medication  \\\n",
       "0     0   41   F            f                  f                         f   \n",
       "1     1   23   F            f                  f                         f   \n",
       "2     2   46   M            f                  f                         f   \n",
       "3     3   70   F            t                  f                         f   \n",
       "4     4   70   F            f                  f                         f   \n",
       "5     5   18   F            t                  f                         f   \n",
       "6     6   59   F            f                  f                         f   \n",
       "7     7   80   F            f                  f                         f   \n",
       "8     8   66   F            f                  f                         f   \n",
       "9     9   68   M            f                  f                         f   \n",
       "\n",
       "  Sick Pregnant Thyroid Surgery I131 Treatment  ...   TSH T3 Measured   T3  \\\n",
       "0    f        f               f              f  ...  1.30           t  2.5   \n",
       "1    f        f               f              f  ...  4.10           t  2.0   \n",
       "2    f        f               f              f  ...  0.98           f  1.9   \n",
       "3    f        f               f              f  ...  0.16           t  1.9   \n",
       "4    f        f               f              f  ...  0.72           t  1.2   \n",
       "5    f        f               f              f  ...  0.03           f  1.9   \n",
       "6    f        f               f              f  ...  1.50           f  1.9   \n",
       "7    f        f               f              f  ...  2.20           t  0.6   \n",
       "8    f        f               f              f  ...  0.60           t  2.2   \n",
       "9    f        f               f              f  ...  2.40           t  1.6   \n",
       "\n",
       "  TT4 Measured    TT4 T4U Measured   T4U FTI Measured    FTI Category  \n",
       "0            t  125.0            t  1.14            t  109.0        2  \n",
       "1            t  102.0            f  0.97            f  106.0        2  \n",
       "2            t  109.0            t  0.91            t  120.0        2  \n",
       "3            t  175.0            f  0.97            f  106.0        2  \n",
       "4            t   61.0            t  0.87            t   70.0        2  \n",
       "5            t  183.0            t  1.30            t  141.0        2  \n",
       "6            t   72.0            t  0.92            t   78.0        2  \n",
       "7            t   80.0            t  0.70            t  115.0        2  \n",
       "8            t  123.0            t  0.93            t  132.0        2  \n",
       "9            t   83.0            t  0.89            t   93.0        2  \n",
       "\n",
       "[10 rows x 28 columns]"
      ]
     },
     "execution_count": 11,
     "metadata": {},
     "output_type": "execute_result"
    }
   ],
   "source": [
    "data.head(10)"
   ]
  },
  {
   "cell_type": "code",
   "execution_count": 12,
   "metadata": {},
   "outputs": [
    {
     "data": {
      "text/plain": [
       "Index(['S.no', 'Age', 'Sex', 'On Thyroxine', 'Query on Thyroxine',\n",
       "       'On Antithyroid Medication', 'Sick', 'Pregnant', 'Thyroid Surgery',\n",
       "       'I131 Treatment', 'Query Hypothyroid', 'Query Hyperthyroid', 'Lithium',\n",
       "       'Goitre', 'Tumor', 'Hypopituitary', 'Psych', 'TSH Measured', 'TSH',\n",
       "       'T3 Measured', 'T3', 'TT4 Measured', 'TT4', 'T4U Measured', 'T4U',\n",
       "       'FTI Measured', 'FTI', 'Category'],\n",
       "      dtype='object')"
      ]
     },
     "execution_count": 12,
     "metadata": {},
     "output_type": "execute_result"
    }
   ],
   "source": [
    "data.columns\n"
   ]
  },
  {
   "cell_type": "code",
   "execution_count": 13,
   "metadata": {},
   "outputs": [
    {
     "data": {
      "text/plain": [
       "S.no                           0\n",
       "Age                            0\n",
       "Sex                          127\n",
       "On Thyroxine                   0\n",
       "Query on Thyroxine             0\n",
       "On Antithyroid Medication      0\n",
       "Sick                           0\n",
       "Pregnant                       0\n",
       "Thyroid Surgery                0\n",
       "I131 Treatment                 0\n",
       "Query Hypothyroid              0\n",
       "Query Hyperthyroid             0\n",
       "Lithium                        0\n",
       "Goitre                         0\n",
       "Tumor                          0\n",
       "Hypopituitary                  0\n",
       "Psych                          0\n",
       "TSH Measured                   0\n",
       "TSH                            0\n",
       "T3 Measured                    0\n",
       "T3                             0\n",
       "TT4 Measured                   0\n",
       "TT4                            0\n",
       "T4U Measured                   0\n",
       "T4U                            0\n",
       "FTI Measured                   0\n",
       "FTI                            0\n",
       "Category                       0\n",
       "dtype: int64"
      ]
     },
     "execution_count": 13,
     "metadata": {},
     "output_type": "execute_result"
    }
   ],
   "source": [
    "# To check for the null values\n",
    "data.isnull().sum()"
   ]
  },
  {
   "cell_type": "code",
   "execution_count": 14,
   "metadata": {},
   "outputs": [],
   "source": [
    "#Remove unwanted columns\n",
    "data=data.drop([ 'S.no','On Thyroxine', 'Query on Thyroxine',\n",
    "       'On Antithyroid Medication',\n",
    "       'I131 Treatment', 'Query Hypothyroid', 'Query Hyperthyroid', 'Lithium',\n",
    "        'TSH Measured','Hypopituitary','Psych',\n",
    "       'T3 Measured',  'TT4 Measured', 'T4U Measured', \n",
    "       'FTI Measured'],axis=1)"
   ]
  },
  {
   "cell_type": "code",
   "execution_count": 15,
   "metadata": {},
   "outputs": [
    {
     "data": {
      "text/plain": [
       "Index(['Age', 'Sex', 'Sick', 'Pregnant', 'Thyroid Surgery', 'Goitre', 'Tumor',\n",
       "       'TSH', 'T3', 'TT4', 'T4U', 'FTI', 'Category'],\n",
       "      dtype='object')"
      ]
     },
     "execution_count": 15,
     "metadata": {},
     "output_type": "execute_result"
    }
   ],
   "source": [
    "data.columns"
   ]
  },
  {
   "cell_type": "code",
   "execution_count": 16,
   "metadata": {},
   "outputs": [
    {
     "data": {
      "text/plain": [
       "array(['F', 'M', nan], dtype=object)"
      ]
     },
     "execution_count": 16,
     "metadata": {},
     "output_type": "execute_result"
    }
   ],
   "source": [
    "data['Sex'].unique()"
   ]
  },
  {
   "cell_type": "code",
   "execution_count": 17,
   "metadata": {},
   "outputs": [
    {
     "data": {
      "text/html": [
       "<div>\n",
       "<style scoped>\n",
       "    .dataframe tbody tr th:only-of-type {\n",
       "        vertical-align: middle;\n",
       "    }\n",
       "\n",
       "    .dataframe tbody tr th {\n",
       "        vertical-align: top;\n",
       "    }\n",
       "\n",
       "    .dataframe thead th {\n",
       "        text-align: right;\n",
       "    }\n",
       "</style>\n",
       "<table border=\"1\" class=\"dataframe\">\n",
       "  <thead>\n",
       "    <tr style=\"text-align: right;\">\n",
       "      <th></th>\n",
       "      <th>Age</th>\n",
       "      <th>TSH</th>\n",
       "      <th>T3</th>\n",
       "      <th>TT4</th>\n",
       "      <th>T4U</th>\n",
       "      <th>FTI</th>\n",
       "      <th>Category</th>\n",
       "    </tr>\n",
       "  </thead>\n",
       "  <tbody>\n",
       "    <tr>\n",
       "      <th>count</th>\n",
       "      <td>3221.000000</td>\n",
       "      <td>3221.000000</td>\n",
       "      <td>3221.000000</td>\n",
       "      <td>3221.000000</td>\n",
       "      <td>3221.000000</td>\n",
       "      <td>3221.000000</td>\n",
       "      <td>3221.000000</td>\n",
       "    </tr>\n",
       "    <tr>\n",
       "      <th>mean</th>\n",
       "      <td>52.533375</td>\n",
       "      <td>6.322330</td>\n",
       "      <td>1.951770</td>\n",
       "      <td>107.551630</td>\n",
       "      <td>0.988229</td>\n",
       "      <td>110.261347</td>\n",
       "      <td>1.936976</td>\n",
       "    </tr>\n",
       "    <tr>\n",
       "      <th>std</th>\n",
       "      <td>20.378207</td>\n",
       "      <td>26.543102</td>\n",
       "      <td>0.839899</td>\n",
       "      <td>38.091518</td>\n",
       "      <td>0.185982</td>\n",
       "      <td>35.967317</td>\n",
       "      <td>0.461636</td>\n",
       "    </tr>\n",
       "    <tr>\n",
       "      <th>min</th>\n",
       "      <td>1.000000</td>\n",
       "      <td>0.005000</td>\n",
       "      <td>0.050000</td>\n",
       "      <td>2.000000</td>\n",
       "      <td>0.310000</td>\n",
       "      <td>2.000000</td>\n",
       "      <td>0.000000</td>\n",
       "    </tr>\n",
       "    <tr>\n",
       "      <th>25%</th>\n",
       "      <td>37.000000</td>\n",
       "      <td>0.580000</td>\n",
       "      <td>1.600000</td>\n",
       "      <td>86.000000</td>\n",
       "      <td>0.880000</td>\n",
       "      <td>93.000000</td>\n",
       "      <td>2.000000</td>\n",
       "    </tr>\n",
       "    <tr>\n",
       "      <th>50%</th>\n",
       "      <td>55.000000</td>\n",
       "      <td>1.500000</td>\n",
       "      <td>1.900000</td>\n",
       "      <td>102.000000</td>\n",
       "      <td>0.970000</td>\n",
       "      <td>106.000000</td>\n",
       "      <td>2.000000</td>\n",
       "    </tr>\n",
       "    <tr>\n",
       "      <th>75%</th>\n",
       "      <td>68.000000</td>\n",
       "      <td>3.000000</td>\n",
       "      <td>2.200000</td>\n",
       "      <td>123.000000</td>\n",
       "      <td>1.070000</td>\n",
       "      <td>123.000000</td>\n",
       "      <td>2.000000</td>\n",
       "    </tr>\n",
       "    <tr>\n",
       "      <th>max</th>\n",
       "      <td>455.000000</td>\n",
       "      <td>478.000000</td>\n",
       "      <td>10.600000</td>\n",
       "      <td>430.000000</td>\n",
       "      <td>2.120000</td>\n",
       "      <td>395.000000</td>\n",
       "      <td>3.000000</td>\n",
       "    </tr>\n",
       "  </tbody>\n",
       "</table>\n",
       "</div>"
      ],
      "text/plain": [
       "               Age          TSH           T3          TT4          T4U  \\\n",
       "count  3221.000000  3221.000000  3221.000000  3221.000000  3221.000000   \n",
       "mean     52.533375     6.322330     1.951770   107.551630     0.988229   \n",
       "std      20.378207    26.543102     0.839899    38.091518     0.185982   \n",
       "min       1.000000     0.005000     0.050000     2.000000     0.310000   \n",
       "25%      37.000000     0.580000     1.600000    86.000000     0.880000   \n",
       "50%      55.000000     1.500000     1.900000   102.000000     0.970000   \n",
       "75%      68.000000     3.000000     2.200000   123.000000     1.070000   \n",
       "max     455.000000   478.000000    10.600000   430.000000     2.120000   \n",
       "\n",
       "               FTI     Category  \n",
       "count  3221.000000  3221.000000  \n",
       "mean    110.261347     1.936976  \n",
       "std      35.967317     0.461636  \n",
       "min       2.000000     0.000000  \n",
       "25%      93.000000     2.000000  \n",
       "50%     106.000000     2.000000  \n",
       "75%     123.000000     2.000000  \n",
       "max     395.000000     3.000000  "
      ]
     },
     "execution_count": 17,
     "metadata": {},
     "output_type": "execute_result"
    }
   ],
   "source": [
    "data.describe()"
   ]
  },
  {
   "cell_type": "code",
   "execution_count": 18,
   "metadata": {},
   "outputs": [
    {
     "data": {
      "text/plain": [
       "(3221, 13)"
      ]
     },
     "execution_count": 18,
     "metadata": {},
     "output_type": "execute_result"
    }
   ],
   "source": [
    "data.shape"
   ]
  },
  {
   "cell_type": "code",
   "execution_count": 19,
   "metadata": {},
   "outputs": [],
   "source": [
    "# replace ? with numpy nan\n",
    "for column in data.columns:\n",
    "    count=data[column][data[column]== '?'].count()\n",
    "    if count!=0:\n",
    "        data[column]=data[column].replace('?',np.nan)"
   ]
  },
  {
   "cell_type": "code",
   "execution_count": 20,
   "metadata": {},
   "outputs": [
    {
     "name": "stdout",
     "output_type": "stream",
     "text": [
      "Age 0\n",
      "Sex 0\n",
      "Sick 0\n",
      "Pregnant 0\n",
      "Thyroid Surgery 0\n",
      "Goitre 0\n",
      "Tumor 0\n",
      "TSH 0\n",
      "T3 0\n",
      "TT4 0\n",
      "T4U 0\n",
      "FTI 0\n",
      "Category 0\n"
     ]
    }
   ],
   "source": [
    "for column in data.columns:\n",
    "    count=data[column][data[column]=='?'].count()\n",
    "    if count == 0:\n",
    "        print(column,data[column][data[column]=='?'].count())"
   ]
  },
  {
   "cell_type": "code",
   "execution_count": 21,
   "metadata": {},
   "outputs": [
    {
     "name": "stdout",
     "output_type": "stream",
     "text": [
      "Age [ 41  23  46  70  18  59  80  66  68  84  67  71  28  65  42  63  51  81\n",
      "  54  55  60  25  73  34  78  37  85  26  58  64  44  48  61  35  83  21\n",
      "  87  53  77  27  69  74  38  76  45  36  22  43  72  82  31  39  49  62\n",
      "  57   1  50  30  29  75  19   7  79  17  24  15  32  47  16  52  33  13\n",
      "  10  89  56  20  90  40  88  14  86  94  12   4  11   8   5 455   2  91\n",
      "   6  93  92]\n",
      "Sex ['F' 'M' nan]\n",
      "Sick ['f' 't']\n",
      "Pregnant ['f' 't']\n",
      "Thyroid Surgery ['f' 't']\n",
      "Goitre ['f' 't']\n",
      "Tumor ['f' 't']\n",
      "TSH [1.30e+00 4.10e+00 9.80e-01 1.60e-01 7.20e-01 3.00e-02 1.50e+00 2.20e+00\n",
      " 6.00e-01 2.40e+00 1.10e+00 2.80e+00 3.30e+00 1.20e+01 1.20e+00 6.00e+00\n",
      " 2.10e+00 1.00e-01 8.00e-01 1.90e+00 3.10e+00 2.00e-01 1.30e+01 3.00e-01\n",
      " 3.50e-02 2.50e+00 5.00e-01 1.70e+00 7.30e+00 1.80e+00 2.60e-01 4.50e+01\n",
      " 5.40e+00 9.90e-01 2.50e-01 9.20e-01 1.50e-01 6.40e-01 1.00e+00 4.00e-01\n",
      " 2.00e+00 2.60e+00 1.48e+01 1.50e+01 1.90e+01 2.00e-02 3.00e+00 2.90e+00\n",
      " 3.20e+00 9.00e+00 1.60e+00 4.30e+00 5.00e-03 3.10e-01 6.10e-01 5.00e-02\n",
      " 7.80e+00 1.60e+02 2.50e-02 1.40e+00 1.00e-02 8.80e+00 1.51e+02 4.00e-02\n",
      " 3.90e+00 9.40e+00 2.70e+00 2.30e+00 9.40e-01 4.50e-02 3.50e+00 8.80e-01\n",
      " 8.00e-02 4.50e+00 6.80e-01 7.00e-01 6.70e-01 2.70e+01 6.10e+00 7.50e-01\n",
      " 5.50e-01 2.60e+01 5.20e+00 7.70e-01 7.00e-02 9.00e-01 1.14e+01 1.43e+02\n",
      " 4.50e-01 5.70e-01 6.50e-01 1.50e-02 1.60e+01 1.08e+02 8.30e-01 9.20e+00\n",
      " 8.60e+01 6.20e-01 5.90e-01 9.10e+00 5.90e+00 5.20e+01 3.30e-01 3.10e+01\n",
      " 5.80e+00 2.80e-01 5.10e+01 6.30e+00 4.40e+00 9.60e+00 3.40e+00 9.00e-02\n",
      " 2.40e+01 7.60e-01 4.20e+01 2.50e+01 1.00e+01 4.60e+00 8.60e+00 6.60e-01\n",
      " 6.20e+00 7.90e-01 2.80e+01 8.60e-01 9.70e+00 8.40e-01 1.70e+01 1.80e+01\n",
      " 5.50e+01 1.40e+01 3.70e+00 8.70e-01 6.70e+00 7.40e-01 7.60e+00 6.50e-02\n",
      " 2.90e-01 3.70e-01 8.00e+00 1.10e+01 4.80e-01 4.40e+01 7.90e+00 5.00e+00\n",
      " 7.20e+00 8.90e-01 9.30e-01 9.70e-01 1.20e-01 6.40e+00 3.30e+01 8.50e-01\n",
      " 7.10e+00 7.30e-01 1.99e+02 8.20e+00 1.88e+02 2.20e-01 9.80e+01 2.20e+01\n",
      " 6.60e+00 5.10e+00 6.00e-02 4.20e-01 3.80e+00 3.50e+01 4.00e+00 7.80e-01\n",
      " 6.30e-01 5.20e-01 6.00e+01 4.30e-01 5.60e+00 6.90e+00 3.60e+00 2.90e+01\n",
      " 3.80e-01 4.90e+00 4.10e-01 9.90e+00 7.50e+00 3.40e+01 6.50e+00 4.70e+00\n",
      " 1.03e+02 9.50e-01 1.40e-01 3.50e-01 4.20e+00 8.10e-01 5.40e-01 5.80e-01\n",
      " 8.90e+00 5.50e+00 3.40e-01 9.30e+00 1.30e-01 5.40e+01 3.90e-01 8.30e+00\n",
      " 4.78e+02 2.10e+01 6.80e+00 3.20e-01 2.30e-01 2.40e-01 8.10e+00 9.10e-01\n",
      " 5.30e+00 1.00e+02 2.70e-01 1.01e+00 5.80e+01 4.10e+01 1.83e+02 1.84e+01\n",
      " 4.70e-01 1.70e-01 1.21e+01 1.90e-01 8.20e-01 4.30e+01 4.40e-01 7.00e+01\n",
      " 7.70e+00 8.40e+00 6.90e-01 8.50e+00 2.10e-01 8.20e+01 5.50e-02 9.60e-01\n",
      " 7.10e-01 3.80e+01 3.60e-01 9.80e+00 7.00e+00 4.60e-01 1.11e+01 3.90e+01\n",
      " 7.60e+01 5.70e+00 3.20e+01 1.26e+02 2.64e+01 5.30e-01 4.90e-01 3.60e+01\n",
      " 1.78e+02 1.45e+02 4.70e+01 4.80e+00 1.03e+01 8.90e+01 7.40e+00 4.72e+02\n",
      " 5.10e-01 1.16e+02 6.10e+01 9.90e+01 4.60e+01 7.80e+01 4.68e+02]\n",
      "T3 [ 2.5   2.    1.9   1.2   0.6   2.2   1.6   3.8   1.7   1.8   2.6   2.1\n",
      "  0.3   5.5   1.4   3.1   1.5   2.3   2.4   2.7   0.9   1.    2.8   2.9\n",
      "  0.8   1.3   0.4   3.3   3.5   3.4   1.1   4.2   3.7   3.    0.7   4.8\n",
      "  4.3   0.05  3.2   5.4   4.    0.5   0.2   3.6   5.2   5.    6.    5.3\n",
      "  3.9   4.6   4.5   7.3   4.7   6.7   4.1   6.1   0.1   4.9  10.6   5.1\n",
      "  7.    6.2   4.4   7.1 ]\n",
      "TT4 [125.  102.  109.  175.   61.  183.   72.   80.  123.   83.  115.  152.\n",
      " 171.   97.   99.   70.  117.  121.  130.  108.  104.  134.  199.   57.\n",
      " 129.  113.  119.   84.   81.   95.   66.  101.  147.  120.   69.   39.\n",
      "  87.   63.  133.   86.  163.  162.  103.   96.  151.  112.   82.  138.\n",
      "  71.   77.   93.  107.  237.  110.   67.   88.  160.  118.  136.  114.\n",
      " 116.   94.  161.   11.   32.  124.  137.   92.  135.  105.  150.  126.\n",
      " 146.   91.  217.  141.  159.  122.  100.  111.  140.  205.  225.   85.\n",
      "  90.   74.  219.  127.  132.  128.  106.  144.  131.   56.   79.  142.\n",
      "  98.  177.  139.   78.  189.  180.   73.  145.  184.   38.  156.   75.\n",
      " 148.   14.   76.   54.   58.   27.   65.  193.   13.  143.   12.   64.\n",
      " 257.  164.   59.  167.   18.   41.  176.   37.   33.   44.   45.  154.\n",
      " 174.  203.  244.   62.  158.   60.  187.  250.  181.  157.  223.  272.\n",
      " 166.  213.  235.   10.   68.  231.  191.   48.    5.8 169.  149.  210.\n",
      "  40.  155.  232.   42.  204.  430.  198.  230.   15.  170.  165.   47.\n",
      " 168.  194.   89.   52.  179.  192.  172.    4.8  50.  182.  197.  214.\n",
      " 246.  196.  207.   19.  153.   22.   46.  200.   35.  226.  201.  233.\n",
      " 206.   31.  255.  178.  239.  195.    6.   36.    2.    3.  289.  240.\n",
      " 209.   43.   34.  252.   29.  263.  301.   23.  188.  211.  253.   21.\n",
      " 173. ]\n",
      "T4U [1.14  0.97  0.91  0.87  1.3   0.92  0.7   0.93  0.89  0.95  0.99  1.13\n",
      " 0.86  0.96  0.94  0.9   1.02  1.05  0.62  1.06  1.55  0.83  1.09  1.07\n",
      " 1.27  0.76  1.16  1.    0.56  0.81  0.68  0.78  0.85  1.35  1.15  0.82\n",
      " 1.03  1.58  0.79  1.17  0.71  0.72  0.88  1.11  1.2   1.1   1.33  0.77\n",
      " 1.24  0.53  1.44  1.63  1.51  1.42  1.23  1.01  0.98  0.61  1.12  1.43\n",
      " 1.25  1.41  1.68  0.84  0.8   1.04  0.73  1.08  1.26  1.46  1.29  1.34\n",
      " 1.66  1.21  1.19  0.75  0.52  1.83  1.39  1.5   1.93  1.18  0.74  0.58\n",
      " 1.82  0.6   1.67  1.22  0.66  0.67  1.31  0.54  1.77  1.59  1.97  1.69\n",
      " 1.38  1.28  1.4   0.69  0.65  1.74  2.03  1.73  1.65  1.36  1.52  0.57\n",
      " 1.53  1.84  1.57  1.75  1.32  1.37  0.64  1.79  1.8   0.48  1.71  1.62\n",
      " 1.76  1.56  1.48  0.59  0.31  1.94  2.12  1.47  0.63  0.944 0.49  1.88\n",
      " 0.5   0.38  1.49  0.41  1.61  1.7  ]\n",
      "FTI [109.  106.  120.   70.  141.   78.  115.  132.   93.  121.  153.  151.\n",
      " 107.  119.   87.   81.  104.  130.  116.  131.  190.   92.  102.   76.\n",
      "  98.   90.   61.   94.  129.   95.   91.   33.  113.  148.  140.  171.\n",
      " 155.  186.  122.  136.  110.  111.   97.   72.  100.   88.   67.   84.\n",
      " 103.  135.  203.  112.  117.  180.  142.  145.  156.   96.  134.    8.9\n",
      "  60.  139.   41.   99.   89.  146.  124.  105.   85.  157.  143.   71.\n",
      " 221.   28.  108.  137.   83.   74.  170.   65.  101.  127.  274.  154.\n",
      " 114.   62.   86.  126.  125.   64.  172.  162.   79.  118.   73.  152.\n",
      " 163.  149.   14.   51.  165.   77.   32.   69.   80.   11.   54.  164.\n",
      " 123.  144.   10.  214.  200.  160.   53.   16.  138.  169.   56.   47.\n",
      " 133.   43.   68.  179.  224.  220.   82.  362.  182.   75.   66.  161.\n",
      "  57.   58.  312.   63.  128.  147.  158.  281.  207.  216.  251.  194.\n",
      "  46.    7.   42.  174.  395.  185.   13.  201.   48.  173.  167.  188.\n",
      " 150.  235.  175.  159.    5.4 189.   59.  166.   34.  228.  232.  217.\n",
      " 177.  176.  195.  219.   17.  210.  168.  205.   39.  187.   50.  349.\n",
      "  52.  206.  253.  242.  244.  213.  178.  247.  215.  198.   19.  237.\n",
      "  37.    7.6  24.    2.    3.  191.  223.    9.   29.  222.  204.   26.\n",
      " 218.  197.   49.  209.  183. ]\n",
      "Category [2 0 1 3]\n"
     ]
    }
   ],
   "source": [
    "# Check for unique values\n",
    "for column in data.columns:\n",
    "    print(column,(data[column].unique()))"
   ]
  },
  {
   "cell_type": "code",
   "execution_count": 22,
   "metadata": {},
   "outputs": [],
   "source": [
    "# handling missing values\n",
    "data['Age'].fillna((data['Age'].median()), inplace = True)\n",
    "data['TSH'].fillna((data['TSH'].median()), inplace = True)\n",
    "data['T3'].fillna((data['T3'].median()), inplace = True)\n",
    "data['TT4'].fillna((data['TT4'].median()), inplace = True)\n",
    "data['T4U'].fillna((data['T4U'].median()), inplace = True)\n",
    "data['FTI'].fillna((data['FTI'].median()), inplace = True)\n",
    "data['Sex'].fillna((data['Sex'].mode()), inplace=True)"
   ]
  },
  {
   "cell_type": "code",
   "execution_count": 23,
   "metadata": {},
   "outputs": [
    {
     "data": {
      "text/plain": [
       "Index(['Age', 'Sex', 'Sick', 'Pregnant', 'Thyroid Surgery', 'Goitre', 'Tumor',\n",
       "       'TSH', 'T3', 'TT4', 'T4U', 'FTI', 'Category'],\n",
       "      dtype='object')"
      ]
     },
     "execution_count": 23,
     "metadata": {},
     "output_type": "execute_result"
    }
   ],
   "source": [
    "data.columns"
   ]
  },
  {
   "cell_type": "code",
   "execution_count": 24,
   "metadata": {},
   "outputs": [
    {
     "name": "stdout",
     "output_type": "stream",
     "text": [
      "<class 'pandas.core.frame.DataFrame'>\n",
      "RangeIndex: 3221 entries, 0 to 3220\n",
      "Data columns (total 13 columns):\n",
      " #   Column           Non-Null Count  Dtype  \n",
      "---  ------           --------------  -----  \n",
      " 0   Age              3221 non-null   int64  \n",
      " 1   Sex              3094 non-null   object \n",
      " 2   Sick             3221 non-null   object \n",
      " 3   Pregnant         3221 non-null   object \n",
      " 4   Thyroid Surgery  3221 non-null   object \n",
      " 5   Goitre           3221 non-null   object \n",
      " 6   Tumor            3221 non-null   object \n",
      " 7   TSH              3221 non-null   float64\n",
      " 8   T3               3221 non-null   float64\n",
      " 9   TT4              3221 non-null   float64\n",
      " 10  T4U              3221 non-null   float64\n",
      " 11  FTI              3221 non-null   float64\n",
      " 12  Category         3221 non-null   int64  \n",
      "dtypes: float64(5), int64(2), object(6)\n",
      "memory usage: 327.3+ KB\n"
     ]
    }
   ],
   "source": [
    "data.info()"
   ]
  },
  {
   "cell_type": "code",
   "execution_count": 25,
   "metadata": {},
   "outputs": [
    {
     "data": {
      "text/html": [
       "<div>\n",
       "<style scoped>\n",
       "    .dataframe tbody tr th:only-of-type {\n",
       "        vertical-align: middle;\n",
       "    }\n",
       "\n",
       "    .dataframe tbody tr th {\n",
       "        vertical-align: top;\n",
       "    }\n",
       "\n",
       "    .dataframe thead th {\n",
       "        text-align: right;\n",
       "    }\n",
       "</style>\n",
       "<table border=\"1\" class=\"dataframe\">\n",
       "  <thead>\n",
       "    <tr style=\"text-align: right;\">\n",
       "      <th></th>\n",
       "      <th>Age</th>\n",
       "      <th>TSH</th>\n",
       "      <th>T3</th>\n",
       "      <th>TT4</th>\n",
       "      <th>T4U</th>\n",
       "      <th>FTI</th>\n",
       "      <th>Category</th>\n",
       "    </tr>\n",
       "  </thead>\n",
       "  <tbody>\n",
       "    <tr>\n",
       "      <th>count</th>\n",
       "      <td>3221.000000</td>\n",
       "      <td>3221.000000</td>\n",
       "      <td>3221.000000</td>\n",
       "      <td>3221.000000</td>\n",
       "      <td>3221.000000</td>\n",
       "      <td>3221.000000</td>\n",
       "      <td>3221.000000</td>\n",
       "    </tr>\n",
       "    <tr>\n",
       "      <th>mean</th>\n",
       "      <td>52.533375</td>\n",
       "      <td>6.322330</td>\n",
       "      <td>1.951770</td>\n",
       "      <td>107.551630</td>\n",
       "      <td>0.988229</td>\n",
       "      <td>110.261347</td>\n",
       "      <td>1.936976</td>\n",
       "    </tr>\n",
       "    <tr>\n",
       "      <th>std</th>\n",
       "      <td>20.378207</td>\n",
       "      <td>26.543102</td>\n",
       "      <td>0.839899</td>\n",
       "      <td>38.091518</td>\n",
       "      <td>0.185982</td>\n",
       "      <td>35.967317</td>\n",
       "      <td>0.461636</td>\n",
       "    </tr>\n",
       "    <tr>\n",
       "      <th>min</th>\n",
       "      <td>1.000000</td>\n",
       "      <td>0.005000</td>\n",
       "      <td>0.050000</td>\n",
       "      <td>2.000000</td>\n",
       "      <td>0.310000</td>\n",
       "      <td>2.000000</td>\n",
       "      <td>0.000000</td>\n",
       "    </tr>\n",
       "    <tr>\n",
       "      <th>25%</th>\n",
       "      <td>37.000000</td>\n",
       "      <td>0.580000</td>\n",
       "      <td>1.600000</td>\n",
       "      <td>86.000000</td>\n",
       "      <td>0.880000</td>\n",
       "      <td>93.000000</td>\n",
       "      <td>2.000000</td>\n",
       "    </tr>\n",
       "    <tr>\n",
       "      <th>50%</th>\n",
       "      <td>55.000000</td>\n",
       "      <td>1.500000</td>\n",
       "      <td>1.900000</td>\n",
       "      <td>102.000000</td>\n",
       "      <td>0.970000</td>\n",
       "      <td>106.000000</td>\n",
       "      <td>2.000000</td>\n",
       "    </tr>\n",
       "    <tr>\n",
       "      <th>75%</th>\n",
       "      <td>68.000000</td>\n",
       "      <td>3.000000</td>\n",
       "      <td>2.200000</td>\n",
       "      <td>123.000000</td>\n",
       "      <td>1.070000</td>\n",
       "      <td>123.000000</td>\n",
       "      <td>2.000000</td>\n",
       "    </tr>\n",
       "    <tr>\n",
       "      <th>max</th>\n",
       "      <td>455.000000</td>\n",
       "      <td>478.000000</td>\n",
       "      <td>10.600000</td>\n",
       "      <td>430.000000</td>\n",
       "      <td>2.120000</td>\n",
       "      <td>395.000000</td>\n",
       "      <td>3.000000</td>\n",
       "    </tr>\n",
       "  </tbody>\n",
       "</table>\n",
       "</div>"
      ],
      "text/plain": [
       "               Age          TSH           T3          TT4          T4U  \\\n",
       "count  3221.000000  3221.000000  3221.000000  3221.000000  3221.000000   \n",
       "mean     52.533375     6.322330     1.951770   107.551630     0.988229   \n",
       "std      20.378207    26.543102     0.839899    38.091518     0.185982   \n",
       "min       1.000000     0.005000     0.050000     2.000000     0.310000   \n",
       "25%      37.000000     0.580000     1.600000    86.000000     0.880000   \n",
       "50%      55.000000     1.500000     1.900000   102.000000     0.970000   \n",
       "75%      68.000000     3.000000     2.200000   123.000000     1.070000   \n",
       "max     455.000000   478.000000    10.600000   430.000000     2.120000   \n",
       "\n",
       "               FTI     Category  \n",
       "count  3221.000000  3221.000000  \n",
       "mean    110.261347     1.936976  \n",
       "std      35.967317     0.461636  \n",
       "min       2.000000     0.000000  \n",
       "25%      93.000000     2.000000  \n",
       "50%     106.000000     2.000000  \n",
       "75%     123.000000     2.000000  \n",
       "max     395.000000     3.000000  "
      ]
     },
     "execution_count": 25,
     "metadata": {},
     "output_type": "execute_result"
    }
   ],
   "source": [
    "data.describe()"
   ]
  },
  {
   "cell_type": "code",
   "execution_count": 26,
   "metadata": {},
   "outputs": [
    {
     "name": "stdout",
     "output_type": "stream",
     "text": [
      "Numerical columns: Index(['Age', 'TSH', 'T3', 'TT4', 'T4U', 'FTI', 'Category'], dtype='object')\n",
      "Categorical Columns: Index(['Sex', 'Sick', 'Pregnant', 'Thyroid Surgery', 'Goitre', 'Tumor'], dtype='object')\n"
     ]
    }
   ],
   "source": [
    "## segregate numerical and categorical columns\n",
    "\n",
    "numerical_columns=data.columns[data.dtypes!='object']\n",
    "categorical_columns=data.columns[data.dtypes=='object']\n",
    "print(\"Numerical columns:\",numerical_columns)\n",
    "print('Categorical Columns:',categorical_columns)"
   ]
  },
  {
   "cell_type": "code",
   "execution_count": 27,
   "metadata": {},
   "outputs": [
    {
     "data": {
      "text/html": [
       "<div>\n",
       "<style scoped>\n",
       "    .dataframe tbody tr th:only-of-type {\n",
       "        vertical-align: middle;\n",
       "    }\n",
       "\n",
       "    .dataframe tbody tr th {\n",
       "        vertical-align: top;\n",
       "    }\n",
       "\n",
       "    .dataframe thead th {\n",
       "        text-align: right;\n",
       "    }\n",
       "</style>\n",
       "<table border=\"1\" class=\"dataframe\">\n",
       "  <thead>\n",
       "    <tr style=\"text-align: right;\">\n",
       "      <th></th>\n",
       "      <th>Sex</th>\n",
       "      <th>Sick</th>\n",
       "      <th>Pregnant</th>\n",
       "      <th>Thyroid Surgery</th>\n",
       "      <th>Goitre</th>\n",
       "      <th>Tumor</th>\n",
       "    </tr>\n",
       "  </thead>\n",
       "  <tbody>\n",
       "    <tr>\n",
       "      <th>count</th>\n",
       "      <td>3094</td>\n",
       "      <td>3221</td>\n",
       "      <td>3221</td>\n",
       "      <td>3221</td>\n",
       "      <td>3221</td>\n",
       "      <td>3221</td>\n",
       "    </tr>\n",
       "    <tr>\n",
       "      <th>unique</th>\n",
       "      <td>2</td>\n",
       "      <td>2</td>\n",
       "      <td>2</td>\n",
       "      <td>2</td>\n",
       "      <td>2</td>\n",
       "      <td>2</td>\n",
       "    </tr>\n",
       "    <tr>\n",
       "      <th>top</th>\n",
       "      <td>F</td>\n",
       "      <td>f</td>\n",
       "      <td>f</td>\n",
       "      <td>f</td>\n",
       "      <td>f</td>\n",
       "      <td>f</td>\n",
       "    </tr>\n",
       "    <tr>\n",
       "      <th>freq</th>\n",
       "      <td>2108</td>\n",
       "      <td>3080</td>\n",
       "      <td>3175</td>\n",
       "      <td>3180</td>\n",
       "      <td>3194</td>\n",
       "      <td>3130</td>\n",
       "    </tr>\n",
       "  </tbody>\n",
       "</table>\n",
       "</div>"
      ],
      "text/plain": [
       "         Sex  Sick Pregnant Thyroid Surgery Goitre Tumor\n",
       "count   3094  3221     3221            3221   3221  3221\n",
       "unique     2     2        2               2      2     2\n",
       "top        F     f        f               f      f     f\n",
       "freq    2108  3080     3175            3180   3194  3130"
      ]
     },
     "execution_count": 27,
     "metadata": {},
     "output_type": "execute_result"
    }
   ],
   "source": [
    "data[categorical_columns].describe()"
   ]
  },
  {
   "cell_type": "code",
   "execution_count": 29,
   "metadata": {},
   "outputs": [
    {
     "name": "stdout",
     "output_type": "stream",
     "text": [
      "<class 'pandas.core.frame.DataFrame'>\n",
      "RangeIndex: 3221 entries, 0 to 3220\n",
      "Data columns (total 13 columns):\n",
      " #   Column           Non-Null Count  Dtype  \n",
      "---  ------           --------------  -----  \n",
      " 0   Age              3221 non-null   int64  \n",
      " 1   Sex              3094 non-null   object \n",
      " 2   Sick             3221 non-null   object \n",
      " 3   Pregnant         3221 non-null   object \n",
      " 4   Thyroid Surgery  3221 non-null   object \n",
      " 5   Goitre           3221 non-null   object \n",
      " 6   Tumor            3221 non-null   object \n",
      " 7   TSH              3221 non-null   float64\n",
      " 8   T3               3221 non-null   float64\n",
      " 9   TT4              3221 non-null   float64\n",
      " 10  T4U              3221 non-null   float64\n",
      " 11  FTI              3221 non-null   float64\n",
      " 12  Category         3221 non-null   int64  \n",
      "dtypes: float64(5), int64(2), object(6)\n",
      "memory usage: 327.3+ KB\n"
     ]
    }
   ],
   "source": [
    "data.info()"
   ]
  },
  {
   "cell_type": "code",
   "execution_count": 30,
   "metadata": {},
   "outputs": [
    {
     "name": "stdout",
     "output_type": "stream",
     "text": [
      "c:\\THYROID_PREDICTION\\venv;c:\\THYROID_PREDICTION\\venv\\Library\\mingw-w64\\bin;c:\\THYROID_PREDICTION\\venv\\Library\\usr\\bin;c:\\THYROID_PREDICTION\\venv\\Library\\bin;c:\\THYROID_PREDICTION\\venv\\Scripts;c:\\THYROID_PREDICTION\\venv\\bin;C:\\Users\\ASUS\\anaconda3\\condabin;C:\\Program Files\\Python312\\Scripts;C:\\Program Files\\Python312;C:\\WINDOWS\\system32;C:\\WINDOWS;C:\\WINDOWS\\System32\\Wbem;C:\\WINDOWS\\System32\\WindowsPowerShell\\v1.0;C:\\WINDOWS\\System32\\OpenSSH;C:\\Program Files\\Git\\cmd;C:\\Users\\ASUS\\anaconda3;C:\\Users\\ASUS\\anaconda3\\Library\\mingw-w64\\bin;C:\\Users\\ASUS\\anaconda3\\Library\\usr\\bin;C:\\Users\\ASUS\\anaconda3\\Library\\bin;C:\\Users\\ASUS\\anaconda3\\Scripts;C:\\Users\\ASUS\\AppData\\Local\\Microsoft\\WindowsApps;C:\\Users\\ASUS\\AppData\\Local\\Programs\\Microsoft VS Code\\bin;C:\\Users\\ASUS\\AppData\\Local\\GitHubDesktop\\bin\n"
     ]
    },
    {
     "name": "stderr",
     "output_type": "stream",
     "text": [
      "'export' is not recognized as an internal or external command,\n",
      "operable program or batch file.\n"
     ]
    }
   ],
   "source": [
    "import os\n",
    "print(os.environ['PATH'])\n",
    "!export PATH=/Library/TeX/texbin:$PATH"
   ]
  },
  {
   "cell_type": "code",
   "execution_count": 31,
   "metadata": {},
   "outputs": [],
   "source": [
    "import seaborn as sns\n",
    "import matplotlib.pyplot as plt"
   ]
  },
  {
   "cell_type": "code",
   "execution_count": 32,
   "metadata": {},
   "outputs": [
    {
     "name": "stderr",
     "output_type": "stream",
     "text": [
      "C:\\Users\\ASUS\\AppData\\Local\\Temp\\ipykernel_5668\\1314556968.py:8: UserWarning: \n",
      "\n",
      "`distplot` is a deprecated function and will be removed in seaborn v0.14.0.\n",
      "\n",
      "Please adapt your code to use either `displot` (a figure-level function with\n",
      "similar flexibility) or `histplot` (an axes-level function for histograms).\n",
      "\n",
      "For a guide to updating your code to use the new functions, please see\n",
      "https://gist.github.com/mwaskom/de44147ed2974457ad6372750bbe5751\n",
      "\n",
      "  sns.distplot(data[column])\n",
      "C:\\Users\\ASUS\\AppData\\Local\\Temp\\ipykernel_5668\\1314556968.py:8: UserWarning: \n",
      "\n",
      "`distplot` is a deprecated function and will be removed in seaborn v0.14.0.\n",
      "\n",
      "Please adapt your code to use either `displot` (a figure-level function with\n",
      "similar flexibility) or `histplot` (an axes-level function for histograms).\n",
      "\n",
      "For a guide to updating your code to use the new functions, please see\n",
      "https://gist.github.com/mwaskom/de44147ed2974457ad6372750bbe5751\n",
      "\n",
      "  sns.distplot(data[column])\n",
      "C:\\Users\\ASUS\\AppData\\Local\\Temp\\ipykernel_5668\\1314556968.py:8: UserWarning: \n",
      "\n",
      "`distplot` is a deprecated function and will be removed in seaborn v0.14.0.\n",
      "\n",
      "Please adapt your code to use either `displot` (a figure-level function with\n",
      "similar flexibility) or `histplot` (an axes-level function for histograms).\n",
      "\n",
      "For a guide to updating your code to use the new functions, please see\n",
      "https://gist.github.com/mwaskom/de44147ed2974457ad6372750bbe5751\n",
      "\n",
      "  sns.distplot(data[column])\n",
      "C:\\Users\\ASUS\\AppData\\Local\\Temp\\ipykernel_5668\\1314556968.py:8: UserWarning: \n",
      "\n",
      "`distplot` is a deprecated function and will be removed in seaborn v0.14.0.\n",
      "\n",
      "Please adapt your code to use either `displot` (a figure-level function with\n",
      "similar flexibility) or `histplot` (an axes-level function for histograms).\n",
      "\n",
      "For a guide to updating your code to use the new functions, please see\n",
      "https://gist.github.com/mwaskom/de44147ed2974457ad6372750bbe5751\n",
      "\n",
      "  sns.distplot(data[column])\n",
      "C:\\Users\\ASUS\\AppData\\Local\\Temp\\ipykernel_5668\\1314556968.py:8: UserWarning: \n",
      "\n",
      "`distplot` is a deprecated function and will be removed in seaborn v0.14.0.\n",
      "\n",
      "Please adapt your code to use either `displot` (a figure-level function with\n",
      "similar flexibility) or `histplot` (an axes-level function for histograms).\n",
      "\n",
      "For a guide to updating your code to use the new functions, please see\n",
      "https://gist.github.com/mwaskom/de44147ed2974457ad6372750bbe5751\n",
      "\n",
      "  sns.distplot(data[column])\n",
      "C:\\Users\\ASUS\\AppData\\Local\\Temp\\ipykernel_5668\\1314556968.py:8: UserWarning: \n",
      "\n",
      "`distplot` is a deprecated function and will be removed in seaborn v0.14.0.\n",
      "\n",
      "Please adapt your code to use either `displot` (a figure-level function with\n",
      "similar flexibility) or `histplot` (an axes-level function for histograms).\n",
      "\n",
      "For a guide to updating your code to use the new functions, please see\n",
      "https://gist.github.com/mwaskom/de44147ed2974457ad6372750bbe5751\n",
      "\n",
      "  sns.distplot(data[column])\n"
     ]
    },
    {
     "ename": "ValueError",
     "evalue": "num must be an integer with 1 <= num <= 6, not 7",
     "output_type": "error",
     "traceback": [
      "\u001b[1;31m---------------------------------------------------------------------------\u001b[0m",
      "\u001b[1;31mValueError\u001b[0m                                Traceback (most recent call last)",
      "Cell \u001b[1;32mIn[32], line 7\u001b[0m\n\u001b[0;32m      4\u001b[0m plotnumber \u001b[38;5;241m=\u001b[39m \u001b[38;5;241m1\u001b[39m\n\u001b[0;32m      6\u001b[0m \u001b[38;5;28;01mfor\u001b[39;00m column \u001b[38;5;129;01min\u001b[39;00m columns:\n\u001b[1;32m----> 7\u001b[0m     ax \u001b[38;5;241m=\u001b[39m \u001b[43mplt\u001b[49m\u001b[38;5;241;43m.\u001b[39;49m\u001b[43msubplot\u001b[49m\u001b[43m(\u001b[49m\u001b[38;5;241;43m3\u001b[39;49m\u001b[43m,\u001b[49m\u001b[38;5;241;43m2\u001b[39;49m\u001b[43m,\u001b[49m\u001b[43mplotnumber\u001b[49m\u001b[43m)\u001b[49m\n\u001b[0;32m      8\u001b[0m     sns\u001b[38;5;241m.\u001b[39mdistplot(data[column])\n\u001b[0;32m      9\u001b[0m     plt\u001b[38;5;241m.\u001b[39mxlabel(column,fontsize\u001b[38;5;241m=\u001b[39m\u001b[38;5;241m10\u001b[39m)\n",
      "File \u001b[1;32mc:\\THYROID_PREDICTION\\venv\\lib\\site-packages\\matplotlib\\pyplot.py:1323\u001b[0m, in \u001b[0;36msubplot\u001b[1;34m(*args, **kwargs)\u001b[0m\n\u001b[0;32m   1320\u001b[0m fig \u001b[38;5;241m=\u001b[39m gcf()\n\u001b[0;32m   1322\u001b[0m \u001b[38;5;66;03m# First, search for an existing subplot with a matching spec.\u001b[39;00m\n\u001b[1;32m-> 1323\u001b[0m key \u001b[38;5;241m=\u001b[39m \u001b[43mSubplotSpec\u001b[49m\u001b[38;5;241;43m.\u001b[39;49m\u001b[43m_from_subplot_args\u001b[49m\u001b[43m(\u001b[49m\u001b[43mfig\u001b[49m\u001b[43m,\u001b[49m\u001b[43m \u001b[49m\u001b[43margs\u001b[49m\u001b[43m)\u001b[49m\n\u001b[0;32m   1325\u001b[0m \u001b[38;5;28;01mfor\u001b[39;00m ax \u001b[38;5;129;01min\u001b[39;00m fig\u001b[38;5;241m.\u001b[39maxes:\n\u001b[0;32m   1326\u001b[0m     \u001b[38;5;66;03m# if we found an Axes at the position sort out if we can re-use it\u001b[39;00m\n\u001b[0;32m   1327\u001b[0m     \u001b[38;5;28;01mif\u001b[39;00m ax\u001b[38;5;241m.\u001b[39mget_subplotspec() \u001b[38;5;241m==\u001b[39m key:\n\u001b[0;32m   1328\u001b[0m         \u001b[38;5;66;03m# if the user passed no kwargs, re-use\u001b[39;00m\n",
      "File \u001b[1;32mc:\\THYROID_PREDICTION\\venv\\lib\\site-packages\\matplotlib\\gridspec.py:600\u001b[0m, in \u001b[0;36mSubplotSpec._from_subplot_args\u001b[1;34m(figure, args)\u001b[0m\n\u001b[0;32m    598\u001b[0m \u001b[38;5;28;01melse\u001b[39;00m:\n\u001b[0;32m    599\u001b[0m     \u001b[38;5;28;01mif\u001b[39;00m \u001b[38;5;129;01mnot\u001b[39;00m \u001b[38;5;28misinstance\u001b[39m(num, Integral) \u001b[38;5;129;01mor\u001b[39;00m num \u001b[38;5;241m<\u001b[39m \u001b[38;5;241m1\u001b[39m \u001b[38;5;129;01mor\u001b[39;00m num \u001b[38;5;241m>\u001b[39m rows\u001b[38;5;241m*\u001b[39mcols:\n\u001b[1;32m--> 600\u001b[0m         \u001b[38;5;28;01mraise\u001b[39;00m \u001b[38;5;167;01mValueError\u001b[39;00m(\n\u001b[0;32m    601\u001b[0m             \u001b[38;5;124mf\u001b[39m\u001b[38;5;124m\"\u001b[39m\u001b[38;5;124mnum must be an integer with 1 <= num <= \u001b[39m\u001b[38;5;132;01m{\u001b[39;00mrows\u001b[38;5;241m*\u001b[39mcols\u001b[38;5;132;01m}\u001b[39;00m\u001b[38;5;124m, \u001b[39m\u001b[38;5;124m\"\u001b[39m\n\u001b[0;32m    602\u001b[0m             \u001b[38;5;124mf\u001b[39m\u001b[38;5;124m\"\u001b[39m\u001b[38;5;124mnot \u001b[39m\u001b[38;5;132;01m{\u001b[39;00mnum\u001b[38;5;132;01m!r}\u001b[39;00m\u001b[38;5;124m\"\u001b[39m\n\u001b[0;32m    603\u001b[0m         )\n\u001b[0;32m    604\u001b[0m     i \u001b[38;5;241m=\u001b[39m j \u001b[38;5;241m=\u001b[39m num\n\u001b[0;32m    605\u001b[0m \u001b[38;5;28;01mreturn\u001b[39;00m gs[i\u001b[38;5;241m-\u001b[39m\u001b[38;5;241m1\u001b[39m:j]\n",
      "\u001b[1;31mValueError\u001b[0m: num must be an integer with 1 <= num <= 6, not 7"
     ]
    },
    {
     "data": {
      "image/png": "[encoded data removed]",
      "text/plain": [
       "<Figure size 1000x1500 with 6 Axes>"
      ]
     },
     "metadata": {},
     "output_type": "display_data"
    }
   ],
   "source": [
    "columns = numerical_columns\n",
    "\n",
    "plt.figure(figsize=(10,15),facecolor='white')\n",
    "plotnumber = 1\n",
    "\n",
    "for column in columns:\n",
    "    ax = plt.subplot(3,2,plotnumber)\n",
    "    sns.distplot(data[column])\n",
    "    plt.xlabel(column,fontsize=10)\n",
    "    plotnumber+=1\n",
    "plt.show()"
   ]
  },
  {
   "cell_type": "code",
   "execution_count": 33,
   "metadata": {},
   "outputs": [
    {
     "data": {
      "image/png": "[encoded data removed]",
      "text/plain": [
       "<Figure size 1000x1500 with 6 Axes>"
      ]
     },
     "metadata": {},
     "output_type": "display_data"
    }
   ],
   "source": [
    "columns = categorical_columns\n",
    "\n",
    "plt.figure(figsize=(10,15),facecolor='white')\n",
    "plotnumber = 1\n",
    "\n",
    "for column in columns:\n",
    "    ax = plt.subplot(4,2,plotnumber)\n",
    "    sns.countplot(data[column])\n",
    "    plt.xlabel(column,fontsize=10)\n",
    "    plotnumber+=1\n",
    "plt.show()"
   ]
  },
  {
   "cell_type": "code",
   "execution_count": 34,
   "metadata": {},
   "outputs": [
    {
     "data": {
      "text/html": [
       "<div>\n",
       "<style scoped>\n",
       "    .dataframe tbody tr th:only-of-type {\n",
       "        vertical-align: middle;\n",
       "    }\n",
       "\n",
       "    .dataframe tbody tr th {\n",
       "        vertical-align: top;\n",
       "    }\n",
       "\n",
       "    .dataframe thead th {\n",
       "        text-align: right;\n",
       "    }\n",
       "</style>\n",
       "<table border=\"1\" class=\"dataframe\">\n",
       "  <thead>\n",
       "    <tr style=\"text-align: right;\">\n",
       "      <th></th>\n",
       "      <th>Age</th>\n",
       "      <th>TSH</th>\n",
       "      <th>T3</th>\n",
       "      <th>TT4</th>\n",
       "      <th>T4U</th>\n",
       "      <th>FTI</th>\n",
       "      <th>Category</th>\n",
       "    </tr>\n",
       "  </thead>\n",
       "  <tbody>\n",
       "    <tr>\n",
       "      <th>count</th>\n",
       "      <td>3221.000000</td>\n",
       "      <td>3221.000000</td>\n",
       "      <td>3221.000000</td>\n",
       "      <td>3221.000000</td>\n",
       "      <td>3221.000000</td>\n",
       "      <td>3221.000000</td>\n",
       "      <td>3221.000000</td>\n",
       "    </tr>\n",
       "    <tr>\n",
       "      <th>mean</th>\n",
       "      <td>52.533375</td>\n",
       "      <td>6.322330</td>\n",
       "      <td>1.951770</td>\n",
       "      <td>107.551630</td>\n",
       "      <td>0.988229</td>\n",
       "      <td>110.261347</td>\n",
       "      <td>1.936976</td>\n",
       "    </tr>\n",
       "    <tr>\n",
       "      <th>std</th>\n",
       "      <td>20.378207</td>\n",
       "      <td>26.543102</td>\n",
       "      <td>0.839899</td>\n",
       "      <td>38.091518</td>\n",
       "      <td>0.185982</td>\n",
       "      <td>35.967317</td>\n",
       "      <td>0.461636</td>\n",
       "    </tr>\n",
       "    <tr>\n",
       "      <th>min</th>\n",
       "      <td>1.000000</td>\n",
       "      <td>0.005000</td>\n",
       "      <td>0.050000</td>\n",
       "      <td>2.000000</td>\n",
       "      <td>0.310000</td>\n",
       "      <td>2.000000</td>\n",
       "      <td>0.000000</td>\n",
       "    </tr>\n",
       "    <tr>\n",
       "      <th>25%</th>\n",
       "      <td>37.000000</td>\n",
       "      <td>0.580000</td>\n",
       "      <td>1.600000</td>\n",
       "      <td>86.000000</td>\n",
       "      <td>0.880000</td>\n",
       "      <td>93.000000</td>\n",
       "      <td>2.000000</td>\n",
       "    </tr>\n",
       "    <tr>\n",
       "      <th>50%</th>\n",
       "      <td>55.000000</td>\n",
       "      <td>1.500000</td>\n",
       "      <td>1.900000</td>\n",
       "      <td>102.000000</td>\n",
       "      <td>0.970000</td>\n",
       "      <td>106.000000</td>\n",
       "      <td>2.000000</td>\n",
       "    </tr>\n",
       "    <tr>\n",
       "      <th>75%</th>\n",
       "      <td>68.000000</td>\n",
       "      <td>3.000000</td>\n",
       "      <td>2.200000</td>\n",
       "      <td>123.000000</td>\n",
       "      <td>1.070000</td>\n",
       "      <td>123.000000</td>\n",
       "      <td>2.000000</td>\n",
       "    </tr>\n",
       "    <tr>\n",
       "      <th>max</th>\n",
       "      <td>455.000000</td>\n",
       "      <td>478.000000</td>\n",
       "      <td>10.600000</td>\n",
       "      <td>430.000000</td>\n",
       "      <td>2.120000</td>\n",
       "      <td>395.000000</td>\n",
       "      <td>3.000000</td>\n",
       "    </tr>\n",
       "  </tbody>\n",
       "</table>\n",
       "</div>"
      ],
      "text/plain": [
       "               Age          TSH           T3          TT4          T4U  \\\n",
       "count  3221.000000  3221.000000  3221.000000  3221.000000  3221.000000   \n",
       "mean     52.533375     6.322330     1.951770   107.551630     0.988229   \n",
       "std      20.378207    26.543102     0.839899    38.091518     0.185982   \n",
       "min       1.000000     0.005000     0.050000     2.000000     0.310000   \n",
       "25%      37.000000     0.580000     1.600000    86.000000     0.880000   \n",
       "50%      55.000000     1.500000     1.900000   102.000000     0.970000   \n",
       "75%      68.000000     3.000000     2.200000   123.000000     1.070000   \n",
       "max     455.000000   478.000000    10.600000   430.000000     2.120000   \n",
       "\n",
       "               FTI     Category  \n",
       "count  3221.000000  3221.000000  \n",
       "mean    110.261347     1.936976  \n",
       "std      35.967317     0.461636  \n",
       "min       2.000000     0.000000  \n",
       "25%      93.000000     2.000000  \n",
       "50%     106.000000     2.000000  \n",
       "75%     123.000000     2.000000  \n",
       "max     395.000000     3.000000  "
      ]
     },
     "execution_count": 34,
     "metadata": {},
     "output_type": "execute_result"
    }
   ],
   "source": [
    "data.describe()"
   ]
  },
  {
   "cell_type": "code",
   "execution_count": 36,
   "metadata": {},
   "outputs": [],
   "source": [
    "# the graph TSH is heavily skewed towards left . so we drop it\n",
    "data=data.drop(['TSH'], axis=1)"
   ]
  },
  {
   "cell_type": "code",
   "execution_count": 37,
   "metadata": {},
   "outputs": [],
   "source": [
    "from sklearn.preprocessing import LabelEncoder\n",
    "lblEn=LabelEncoder()\n",
    "data['Category']=lblEn.fit_transform(data['Category'])"
   ]
  },
  {
   "cell_type": "code",
   "execution_count": 38,
   "metadata": {},
   "outputs": [
    {
     "data": {
      "text/plain": [
       "<Axes: xlabel='Category', ylabel='Count'>"
      ]
     },
     "execution_count": 38,
     "metadata": {},
     "output_type": "execute_result"
    },
    {
     "data": {
      "image/png": "[encoded data removed]",
      "text/plain": [
       "<Figure size 640x480 with 1 Axes>"
      ]
     },
     "metadata": {},
     "output_type": "display_data"
    }
   ],
   "source": [
    "sns.histplot(x='Category',data=data)"
   ]
  },
  {
   "cell_type": "code",
   "execution_count": 123,
   "metadata": {},
   "outputs": [],
   "source": [
    "# data set is highly imbalanced"
   ]
  },
  {
   "cell_type": "code",
   "execution_count": 39,
   "metadata": {},
   "outputs": [],
   "source": [
    "X=data.drop(['Category'],axis=1)\n",
    "y=data.Category"
   ]
  },
  {
   "cell_type": "code",
   "execution_count": 40,
   "metadata": {},
   "outputs": [
    {
     "data": {
      "image/png": "[encoded data removed]",
      "text/plain": [
       "<Figure size 640x480 with 1 Axes>"
      ]
     },
     "metadata": {},
     "output_type": "display_data"
    },
    {
     "data": {
      "text/plain": [
       "Index(['Age', 'Sex', 'Sick', 'Pregnant', 'Thyroid Surgery', 'Goitre', 'Tumor',\n",
       "       'T3', 'TT4', 'T4U', 'FTI'],\n",
       "      dtype='object')"
      ]
     },
     "execution_count": 40,
     "metadata": {},
     "output_type": "execute_result"
    }
   ],
   "source": [
    "# To balance the dataset\n",
    "from imblearn.over_sampling import SMOTENC,RandomOverSampler,KMeansSMOTE\n",
    "\n",
    "\n",
    "rdsmple=RandomOverSampler()\n",
    "X_sampled,y_sampled=rdsmple.fit_resample(X,y)\n",
    "\n",
    "X_sampled.shape\n",
    "\n",
    "\n",
    "X_sampled=pd.DataFrame(data=X_sampled,columns=X.columns)\n",
    "X_sampled\n",
    "\n",
    "\n",
    "\n",
    "sns.histplot(y_sampled)\n",
    "\n",
    "\n",
    "\n",
    "plt.show()\n",
    "\n",
    "X_sampled.columns\n",
    "\n"
   ]
  },
  {
   "cell_type": "code",
   "execution_count": 126,
   "metadata": {},
   "outputs": [],
   "source": [
    "#Now the data is balanced"
   ]
  },
  {
   "cell_type": "code",
   "execution_count": 41,
   "metadata": {},
   "outputs": [
    {
     "data": {
      "text/plain": [
       "array([2, 0, 1, 3], dtype=int64)"
      ]
     },
     "execution_count": 41,
     "metadata": {},
     "output_type": "execute_result"
    }
   ],
   "source": [
    "y_sampled.unique()"
   ]
  },
  {
   "cell_type": "code",
   "execution_count": 42,
   "metadata": {},
   "outputs": [
    {
     "name": "stdout",
     "output_type": "stream",
     "text": [
      "c:\\THYROID_PREDICTION\\venv;c:\\THYROID_PREDICTION\\venv\\Library\\mingw-w64\\bin;c:\\THYROID_PREDICTION\\venv\\Library\\usr\\bin;c:\\THYROID_PREDICTION\\venv\\Library\\bin;c:\\THYROID_PREDICTION\\venv\\Scripts;c:\\THYROID_PREDICTION\\venv\\bin;C:\\Users\\ASUS\\anaconda3\\condabin;C:\\Program Files\\Python312\\Scripts;C:\\Program Files\\Python312;C:\\WINDOWS\\system32;C:\\WINDOWS;C:\\WINDOWS\\System32\\Wbem;C:\\WINDOWS\\System32\\WindowsPowerShell\\v1.0;C:\\WINDOWS\\System32\\OpenSSH;C:\\Program Files\\Git\\cmd;C:\\Users\\ASUS\\anaconda3;C:\\Users\\ASUS\\anaconda3\\Library\\mingw-w64\\bin;C:\\Users\\ASUS\\anaconda3\\Library\\usr\\bin;C:\\Users\\ASUS\\anaconda3\\Library\\bin;C:\\Users\\ASUS\\anaconda3\\Scripts;C:\\Users\\ASUS\\AppData\\Local\\Microsoft\\WindowsApps;C:\\Users\\ASUS\\AppData\\Local\\Programs\\Microsoft VS Code\\bin;C:\\Users\\ASUS\\AppData\\Local\\GitHubDesktop\\bin\n"
     ]
    }
   ],
   "source": [
    "import os\n",
    "print(os.environ['PATH'])"
   ]
  },
  {
   "cell_type": "code",
   "execution_count": 43,
   "metadata": {},
   "outputs": [
    {
     "name": "stderr",
     "output_type": "stream",
     "text": [
      "'export' is not recognized as an internal or external command,\n",
      "operable program or batch file.\n"
     ]
    }
   ],
   "source": [
    "\n",
    "!export PATH=/Library/TeX/texbin:$PATH"
   ]
  },
  {
   "cell_type": "code",
   "execution_count": 44,
   "metadata": {},
   "outputs": [
    {
     "name": "stdout",
     "output_type": "stream",
     "text": [
      "<class 'pandas.core.frame.DataFrame'>\n",
      "RangeIndex: 3221 entries, 0 to 3220\n",
      "Data columns (total 12 columns):\n",
      " #   Column           Non-Null Count  Dtype  \n",
      "---  ------           --------------  -----  \n",
      " 0   Age              3221 non-null   int64  \n",
      " 1   Sex              3094 non-null   object \n",
      " 2   Sick             3221 non-null   object \n",
      " 3   Pregnant         3221 non-null   object \n",
      " 4   Thyroid Surgery  3221 non-null   object \n",
      " 5   Goitre           3221 non-null   object \n",
      " 6   Tumor            3221 non-null   object \n",
      " 7   T3               3221 non-null   float64\n",
      " 8   TT4              3221 non-null   float64\n",
      " 9   T4U              3221 non-null   float64\n",
      " 10  FTI              3221 non-null   float64\n",
      " 11  Category         3221 non-null   int64  \n",
      "dtypes: float64(4), int64(2), object(6)\n",
      "memory usage: 302.1+ KB\n"
     ]
    }
   ],
   "source": [
    "data.info()"
   ]
  },
  {
   "cell_type": "code",
   "execution_count": null,
   "metadata": {},
   "outputs": [],
   "source": []
  },
  {
   "cell_type": "code",
   "execution_count": null,
   "metadata": {},
   "outputs": [],
   "source": [
    "\n",
    "\n"
   ]
  },
  {
   "cell_type": "code",
   "execution_count": null,
   "metadata": {},
   "outputs": [],
   "source": []
  }
 ],
 "metadata": {
  "kernelspec": {
   "display_name": "Python 3",
   "language": "python",
   "name": "python3"
  },
  "language_info": {
   "codemirror_mode": {
    "name": "ipython",
    "version": 3
   },
   "file_extension": ".py",
   "mimetype": "text/x-python",
   "name": "python",
   "nbconvert_exporter": "python",
   "pygments_lexer": "ipython3",
   "version": "3.8.19"
  }
 },
 "nbformat": 4,
 "nbformat_minor": 2
}
